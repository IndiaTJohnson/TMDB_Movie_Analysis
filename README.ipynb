{
 "cells": [
  {
   "cell_type": "code",
   "execution_count": null,
   "id": "692f3dcf-e328-4ae2-8990-e5b09c18eb8b",
   "metadata": {},
   "outputs": [],
   "source": []
  },
  {
   "cell_type": "code",
   "execution_count": null,
   "id": "154deb26-7880-4319-ba2e-5195a27b8914",
   "metadata": {},
   "outputs": [],
   "source": []
  },
  {
   "cell_type": "code",
   "execution_count": null,
   "id": "735e62d0-9655-4b8a-a0fb-47179bf47459",
   "metadata": {},
   "outputs": [],
   "source": []
  },
  {
   "cell_type": "markdown",
   "id": "d9abeb98-895a-46e1-bb3c-a859346268c6",
   "metadata": {},
   "source": [
    "|    | Words                       |    Raw Freq |\r\n",
    "|---:|:----------------------------|------------:|\r\n",
    "|  0 | ('final', 'rating')         | 0.00112837  |\r\n",
    "|  1 | ('rating', '★')             | 0.00112837  |\r\n",
    "|  2 | ('★', '★')                  | 0.0010314   |\r\n",
    "|  3 | ('finished', 'product')     | 0.000846277 |\r\n",
    "|  4 | ('appeal', 'poor')          | 0.000837462 |\r\n",
    "|  5 | ('poor', 'finished')        | 0.000837462 |\r\n",
    "|  6 | ('things', 'appeal')        | 0.000837462 |\r\n",
    "|  7 | ('★', 'things')             | 0.000837462 |\r\n",
    "|  8 | ('special', 'effects')      | 0.000643523 |\r\n",
    "|  9 | ('feels', 'like')           | 0.000537739 |\r\n",
    "| 10 | ('★', '½')                  | 0.000528923 |\r\n",
    "| 11 | ('avoid', 'possible')       | 0.000511293 |\r\n",
    "| 12 | ('boring', 'disappointing') | 0.000511293 |\r\n",
    "| 13 | ('disappointing', 'avoid')  | 0.000511293 |\r\n",
    "| 14 | ('½', 'boring')             | 0.000511293 |\r\n",
    "| 15 | ('final', 'rating:')        | 0.000502477 |\r\n",
    "| 16 | ('rating:', '★')            | 0.000502477 |\r\n",
    "| 17 | ('looks', 'like')           | 0.000405508 |\r\n",
    "| 18 | ('good', 'movie')           | 0.000352616 |\r\n",
    "| 19 | ('star', 'wars')            | 0.000352616 |\r\n",
    "|  0 | ('comic', 'book')           | 0.000436441 |\r\n",
    "|  1 | ('special', 'effects')      | 0.000436441 |\r\n",
    "|  2 | ('star', 'wars')            | 0.000393512 |\r\n",
    "|  3 | ('sci', 'fi')               | 0.000357738 |\r\n",
    "|  4 | ('feel', 'like')            | 0.000350583 |\r\n",
    "|  5 | ('action', 'movie')         | 0.000343429 |\r\n",
    "|  6 | ('watch', 'movie')          | 0.00031481  |\r\n",
    "|  7 | ('john', 'wick')            | 0.000307655 |\r\n",
    "|  8 | ('real', 'life')            | 0.000307655 |\r\n",
    "|  9 | ('long', 'time')            | 0.0003005   |"
   ]
  }
 ],
 "metadata": {
  "kernelspec": {
   "display_name": "Python (dojo-env)",
   "language": "python",
   "name": "dojo-env"
  },
  "language_info": {
   "codemirror_mode": {
    "name": "ipython",
    "version": 3
   },
   "file_extension": ".py",
   "mimetype": "text/x-python",
   "name": "python",
   "nbconvert_exporter": "python",
   "pygments_lexer": "ipython3",
   "version": "3.10.10"
  }
 },
 "nbformat": 4,
 "nbformat_minor": 5
}
