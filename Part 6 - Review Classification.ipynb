{
 "cells": [
  {
   "cell_type": "markdown",
   "id": "113c7966-3e00-49d1-b4ac-82ec6c03bbe5",
   "metadata": {},
   "source": [
    "## Imports and Custom Functions"
   ]
  },
  {
   "cell_type": "code",
   "execution_count": 16,
   "id": "2ca407b8-8630-4b9e-af3c-f59c7eb2a6c3",
   "metadata": {},
   "outputs": [],
   "source": [
    "#Imports\n",
    "import matplotlib.pyplot as plt\n",
    "import matplotlib as mpl\n",
    "import seaborn as sns\n",
    "import numpy as np\n",
    "import pandas as pd\n",
    "import spacy\n",
    "import nltk\n",
    "import math\n",
    "import tensorflow as tf\n",
    "\n",
    "from sklearn.model_selection import train_test_split\n",
    "from sklearn.pipeline import make_pipeline, Pipeline\n",
    "from sklearn.feature_extraction.text import CountVectorizer, TfidfVectorizer\n",
    "from sklearn.ensemble import RandomForestClassifier\n",
    "from sklearn.linear_model import LogisticRegression\n",
    "from sklearn.naive_bayes import MultinomialNB\n",
    "from sklearn import metrics\n",
    "from sklearn.model_selection import GridSearchCV\n",
    "import itertools\n",
    "from imblearn.under_sampling import RandomUnderSampler\n",
    "from sklearn.preprocessing import LabelEncoder\n",
    "from sklearn import set_config\n",
    "set_config(transform_output='pandas')\n",
    "pd.set_option('display.max_colwidth',300)\n",
    "\n",
    "import joblib\n",
    "\n",
    "from nltk.probability import FreqDist\n",
    "from wordcloud import WordCloud\n",
    "pd.set_option('display.max_colwidth', None)\n",
    "\n",
    "from nltk.sentiment.vader import SentimentIntensityAnalyzer\n",
    "\n",
    "from tensorflow.keras.layers import TextVectorization\n",
    "from tensorflow.keras.models import Sequential\n",
    "from tensorflow.keras import layers, optimizers, regularizers\n",
    "\n",
    "# Set Random Seeds\n",
    "tf.keras.utils.set_random_seed(42)\n",
    "tf.random.set_seed(42)\n",
    "np.random.seed(42)\n",
    "# Then run the Enable Deterministic Operations Function\n",
    "tf.config.experimental.enable_op_determinism()"
   ]
  },
  {
   "cell_type": "code",
   "execution_count": 18,
   "id": "3ec9c002-daa6-4aa7-8b72-b06e9b6bc441",
   "metadata": {},
   "outputs": [],
   "source": [
    "%load_ext autoreload \n",
    "%autoreload 2\n",
    "\n",
    "    \n",
    "# Adding folder above to python path \n",
    "import sys, os\n",
    "sys.path.append(os.path.abspath(\"/custom_functions.py\"))"
   ]
  },
  {
   "cell_type": "code",
   "execution_count": 19,
   "id": "841edcea-9459-4c3a-88f2-8d8abf987fd6",
   "metadata": {},
   "outputs": [],
   "source": [
    "import custom_functions as fn"
   ]
  },
  {
   "cell_type": "markdown",
   "id": "f5a50b7e-fffe-43fa-b956-7a26546fe3fa",
   "metadata": {},
   "source": [
    "## Load and Preprocess Data"
   ]
  },
  {
   "cell_type": "code",
   "execution_count": 8,
   "id": "8ecc880a-ae1a-4055-b13b-d22ddd9e0233",
   "metadata": {},
   "outputs": [
    {
     "data": {
      "text/html": [
       "<div>\n",
       "<style scoped>\n",
       "    .dataframe tbody tr th:only-of-type {\n",
       "        vertical-align: middle;\n",
       "    }\n",
       "\n",
       "    .dataframe tbody tr th {\n",
       "        vertical-align: top;\n",
       "    }\n",
       "\n",
       "    .dataframe thead th {\n",
       "        text-align: right;\n",
       "    }\n",
       "</style>\n",
       "<table border=\"1\" class=\"dataframe\">\n",
       "  <thead>\n",
       "    <tr style=\"text-align: right;\">\n",
       "      <th></th>\n",
       "      <th>review_id</th>\n",
       "      <th>movie_id</th>\n",
       "      <th>imdb_id</th>\n",
       "      <th>original_title</th>\n",
       "      <th>review</th>\n",
       "      <th>rating</th>\n",
       "      <th>tokens</th>\n",
       "      <th>joined_tokens</th>\n",
       "      <th>lemmas</th>\n",
       "      <th>joined_lemmas</th>\n",
       "    </tr>\n",
       "  </thead>\n",
       "  <tbody>\n",
       "    <tr>\n",
       "      <th>6</th>\n",
       "      <td>57b2d23dc3a36837d7000b14</td>\n",
       "      <td>955</td>\n",
       "      <td>tt0120755</td>\n",
       "      <td>Mission: Impossible II</td>\n",
       "      <td>The first underwhelmed me, but this one straight-up bored me. Again, of course seeing Hunt climb a mountain without a harness is impressive sure. And I even quite liked the idea behind the villain of the piece (though even that angle was woefully...</td>\n",
       "      <td>3.0</td>\n",
       "      <td>[underwhelmed, straight, bored, course, seeing, hunt, climb, mountain, harness, impressive, sure, liked, idea, villain, piece, angle, woefully, underdeveloped, setting, predominantly, australia, grab, attention, saying, cause, pretty, biased, com...</td>\n",
       "      <td>underwhelmed straight bored course seeing hunt climb mountain harness impressive sure liked idea villain piece angle woefully underdeveloped setting predominantly australia grab attention saying cause pretty biased comes hear tell mission impossi...</td>\n",
       "      <td>[underwhelme, straight, bore, course, see, hunt, climb, mountain, harness, impressive, sure, like, idea, villain, piece, angle, woefully, underdeveloped, set, predominantly, australia, grab, attention, say, cause, pretty, biased, come, hear, tell...</td>\n",
       "      <td>underwhelme straight bore course see hunt climb mountain harness impressive sure like idea villain piece angle woefully underdeveloped set predominantly australia grab attention say cause pretty biased come hear tell mission impossible ii low poi...</td>\n",
       "    </tr>\n",
       "    <tr>\n",
       "      <th>7</th>\n",
       "      <td>5e9120963679a10018375490</td>\n",
       "      <td>955</td>\n",
       "      <td>tt0120755</td>\n",
       "      <td>Mission: Impossible II</td>\n",
       "      <td>After quite entertainign Mission Impossible I the second installment turned out ... terrible. As if the screenwriters didn't know how to fill the 2 hrs with action the overuse of heroic slow motion scenes is horrible. You almost might need a barf...</td>\n",
       "      <td>2.0</td>\n",
       "      <td>[entertainign, mission, impossible, second, installment, turned, terrible, screenwriters, know, fill, 2, hrs, action, overuse, heroic, slow, motion, scenes, horrible, need, barf, bag, stand, slo, mo, seconds, 15, seconds, amazed, decide, push, m,...</td>\n",
       "      <td>entertainign mission impossible second installment turned terrible screenwriters know fill 2 hrs action overuse heroic slow motion scenes horrible need barf bag stand slo mo seconds 15 seconds amazed decide push m movies turned better hard beat l...</td>\n",
       "      <td>[entertainign, mission, impossible, second, installment, turn, terrible, screenwriter, know, fill, 2, hrs, action, overuse, heroic, slow, motion, scene, horrible, need, barf, bag, stand, slo, mo, second, 15, second, amazed, decide, push, m, movie...</td>\n",
       "      <td>entertainign mission impossible second installment turn terrible screenwriter know fill 2 hrs action overuse heroic slow motion scene horrible need barf bag stand slo mo second 15 second amazed decide push m movie turn well hard beat lousy piece ...</td>\n",
       "    </tr>\n",
       "    <tr>\n",
       "      <th>20</th>\n",
       "      <td>6409202f0e441900e887a17b</td>\n",
       "      <td>4234</td>\n",
       "      <td>tt0134084</td>\n",
       "      <td>Scream 3</td>\n",
       "      <td>**_Scream 3’s_ lackluster screenplay and unimaginative kills leave a film that is a bore to watch.**\\r\\n\\r\\nThe meta-narrative of trilogies throughout the film does not make up for how abysmal the plot was. This film creates so much lore for the ...</td>\n",
       "      <td>4.0</td>\n",
       "      <td>[scream, 3, lackluster, screenplay, unimaginative, kills, leave, film, bore, watch, meta, narrative, trilogies, film, abysmal, plot, film, creates, lore, past, movies, seemingly, blue, muddling, continuity, shock, value, added, little, film, felt...</td>\n",
       "      <td>scream 3 lackluster screenplay unimaginative kills leave film bore watch meta narrative trilogies film abysmal plot film creates lore past movies seemingly blue muddling continuity shock value added little film felt forced entire plot point sidne...</td>\n",
       "      <td>[scream, 3, lackluster, screenplay, unimaginative, kill, leave, film, bore, watch, meta, narrative, trilogy, film, abysmal, plot, film, create, lore, past, movie, seemingly, blue, muddle, continuity, shock, value, add, little, film, feel, force, ...</td>\n",
       "      <td>scream 3 lackluster screenplay unimaginative kill leave film bore watch meta narrative trilogy film abysmal plot film create lore past movie seemingly blue muddle continuity shock value add little film feel force entire plot point sidney mother h...</td>\n",
       "    </tr>\n",
       "    <tr>\n",
       "      <th>31</th>\n",
       "      <td>63578ba8c8a2d4008a00ff77</td>\n",
       "      <td>12211</td>\n",
       "      <td>tt0144964</td>\n",
       "      <td>Highlander: Endgame</td>\n",
       "      <td>**There should have been only one!**\\r\\n\\r\\nIf “Highlander 2” was a complete disgrace and “Highlander 3” somehow tried to give us some compensation, this movie makes it look worse and more worn out. However, a TV series had been made that had lit...</td>\n",
       "      <td>1.0</td>\n",
       "      <td>[highlander, 2, complete, disgrace, highlander, 3, tried, compensation, movie, makes, look, worse, worn, tv, series, little, original, film, movie, came, try, bring, best, worlds, failed, completely, problems, start, miserably, written, script, i...</td>\n",
       "      <td>highlander 2 complete disgrace highlander 3 tried compensation movie makes look worse worn tv series little original film movie came try bring best worlds failed completely problems start miserably written script ideas truly considered good intel...</td>\n",
       "      <td>[highlander, 2, complete, disgrace, highlander, 3, try, compensation, movie, make, look, bad, worn, tv, series, little, original, film, movie, come, try, bring, good, world, fail, completely, problem, start, miserably, write, script, idea, truly,...</td>\n",
       "      <td>highlander 2 complete disgrace highlander 3 try compensation movie make look bad worn tv series little original film movie come try bring good world fail completely problem start miserably write script idea truly consider good intelligent time fe...</td>\n",
       "    </tr>\n",
       "    <tr>\n",
       "      <th>51</th>\n",
       "      <td>6110271465e0a2002683d2b6</td>\n",
       "      <td>479</td>\n",
       "      <td>tt0162650</td>\n",
       "      <td>Shaft</td>\n",
       "      <td>_**A black detective in Gotham desperately wants to nail a snooty racist murderer**_ \\r\\n\\r\\nThe nephew of the original John Shaft is a detective in New York City (Samuel L. Jackson) where he tries to apprehend an arrogant racist killer (Christia...</td>\n",
       "      <td>4.0</td>\n",
       "      <td>[black, detective, gotham, desperately, wants, nail, snooty, racist, murderer, nephew, original, john, shaft, detective, new, york, city, samuel, l., jackson, tries, apprehend, arrogant, racist, killer, christian, bale, finding, key, witness, ton...</td>\n",
       "      <td>black detective gotham desperately wants nail snooty racist murderer nephew original john shaft detective new york city samuel l. jackson tries apprehend arrogant racist killer christian bale finding key witness toni collette dealing gang lord je...</td>\n",
       "      <td>[black, detective, gotham, desperately, want, nail, snooty, racist, murderer, nephew, original, john, shaft, detective, new, york, city, samuel, l., jackson, try, apprehend, arrogant, racist, killer, christian, bale, find, key, witness, toni, col...</td>\n",
       "      <td>black detective gotham desperately want nail snooty racist murderer nephew original john shaft detective new york city samuel l. jackson try apprehend arrogant racist killer christian bale find key witness toni collette deal gang lord jeffrey wri...</td>\n",
       "    </tr>\n",
       "  </tbody>\n",
       "</table>\n",
       "</div>"
      ],
      "text/plain": [
       "                   review_id  movie_id    imdb_id          original_title  \\\n",
       "6   57b2d23dc3a36837d7000b14       955  tt0120755  Mission: Impossible II   \n",
       "7   5e9120963679a10018375490       955  tt0120755  Mission: Impossible II   \n",
       "20  6409202f0e441900e887a17b      4234  tt0134084                Scream 3   \n",
       "31  63578ba8c8a2d4008a00ff77     12211  tt0144964     Highlander: Endgame   \n",
       "51  6110271465e0a2002683d2b6       479  tt0162650                   Shaft   \n",
       "\n",
       "                                                                                                                                                                                                                                                       review  \\\n",
       "6   The first underwhelmed me, but this one straight-up bored me. Again, of course seeing Hunt climb a mountain without a harness is impressive sure. And I even quite liked the idea behind the villain of the piece (though even that angle was woefully...   \n",
       "7   After quite entertainign Mission Impossible I the second installment turned out ... terrible. As if the screenwriters didn't know how to fill the 2 hrs with action the overuse of heroic slow motion scenes is horrible. You almost might need a barf...   \n",
       "20  **_Scream 3’s_ lackluster screenplay and unimaginative kills leave a film that is a bore to watch.**\\r\\n\\r\\nThe meta-narrative of trilogies throughout the film does not make up for how abysmal the plot was. This film creates so much lore for the ...   \n",
       "31  **There should have been only one!**\\r\\n\\r\\nIf “Highlander 2” was a complete disgrace and “Highlander 3” somehow tried to give us some compensation, this movie makes it look worse and more worn out. However, a TV series had been made that had lit...   \n",
       "51  _**A black detective in Gotham desperately wants to nail a snooty racist murderer**_ \\r\\n\\r\\nThe nephew of the original John Shaft is a detective in New York City (Samuel L. Jackson) where he tries to apprehend an arrogant racist killer (Christia...   \n",
       "\n",
       "    rating  \\\n",
       "6      3.0   \n",
       "7      2.0   \n",
       "20     4.0   \n",
       "31     1.0   \n",
       "51     4.0   \n",
       "\n",
       "                                                                                                                                                                                                                                                       tokens  \\\n",
       "6   [underwhelmed, straight, bored, course, seeing, hunt, climb, mountain, harness, impressive, sure, liked, idea, villain, piece, angle, woefully, underdeveloped, setting, predominantly, australia, grab, attention, saying, cause, pretty, biased, com...   \n",
       "7   [entertainign, mission, impossible, second, installment, turned, terrible, screenwriters, know, fill, 2, hrs, action, overuse, heroic, slow, motion, scenes, horrible, need, barf, bag, stand, slo, mo, seconds, 15, seconds, amazed, decide, push, m,...   \n",
       "20  [scream, 3, lackluster, screenplay, unimaginative, kills, leave, film, bore, watch, meta, narrative, trilogies, film, abysmal, plot, film, creates, lore, past, movies, seemingly, blue, muddling, continuity, shock, value, added, little, film, felt...   \n",
       "31  [highlander, 2, complete, disgrace, highlander, 3, tried, compensation, movie, makes, look, worse, worn, tv, series, little, original, film, movie, came, try, bring, best, worlds, failed, completely, problems, start, miserably, written, script, i...   \n",
       "51  [black, detective, gotham, desperately, wants, nail, snooty, racist, murderer, nephew, original, john, shaft, detective, new, york, city, samuel, l., jackson, tries, apprehend, arrogant, racist, killer, christian, bale, finding, key, witness, ton...   \n",
       "\n",
       "                                                                                                                                                                                                                                                joined_tokens  \\\n",
       "6   underwhelmed straight bored course seeing hunt climb mountain harness impressive sure liked idea villain piece angle woefully underdeveloped setting predominantly australia grab attention saying cause pretty biased comes hear tell mission impossi...   \n",
       "7   entertainign mission impossible second installment turned terrible screenwriters know fill 2 hrs action overuse heroic slow motion scenes horrible need barf bag stand slo mo seconds 15 seconds amazed decide push m movies turned better hard beat l...   \n",
       "20  scream 3 lackluster screenplay unimaginative kills leave film bore watch meta narrative trilogies film abysmal plot film creates lore past movies seemingly blue muddling continuity shock value added little film felt forced entire plot point sidne...   \n",
       "31  highlander 2 complete disgrace highlander 3 tried compensation movie makes look worse worn tv series little original film movie came try bring best worlds failed completely problems start miserably written script ideas truly considered good intel...   \n",
       "51  black detective gotham desperately wants nail snooty racist murderer nephew original john shaft detective new york city samuel l. jackson tries apprehend arrogant racist killer christian bale finding key witness toni collette dealing gang lord je...   \n",
       "\n",
       "                                                                                                                                                                                                                                                       lemmas  \\\n",
       "6   [underwhelme, straight, bore, course, see, hunt, climb, mountain, harness, impressive, sure, like, idea, villain, piece, angle, woefully, underdeveloped, set, predominantly, australia, grab, attention, say, cause, pretty, biased, come, hear, tell...   \n",
       "7   [entertainign, mission, impossible, second, installment, turn, terrible, screenwriter, know, fill, 2, hrs, action, overuse, heroic, slow, motion, scene, horrible, need, barf, bag, stand, slo, mo, second, 15, second, amazed, decide, push, m, movie...   \n",
       "20  [scream, 3, lackluster, screenplay, unimaginative, kill, leave, film, bore, watch, meta, narrative, trilogy, film, abysmal, plot, film, create, lore, past, movie, seemingly, blue, muddle, continuity, shock, value, add, little, film, feel, force, ...   \n",
       "31  [highlander, 2, complete, disgrace, highlander, 3, try, compensation, movie, make, look, bad, worn, tv, series, little, original, film, movie, come, try, bring, good, world, fail, completely, problem, start, miserably, write, script, idea, truly,...   \n",
       "51  [black, detective, gotham, desperately, want, nail, snooty, racist, murderer, nephew, original, john, shaft, detective, new, york, city, samuel, l., jackson, try, apprehend, arrogant, racist, killer, christian, bale, find, key, witness, toni, col...   \n",
       "\n",
       "                                                                                                                                                                                                                                                joined_lemmas  \n",
       "6   underwhelme straight bore course see hunt climb mountain harness impressive sure like idea villain piece angle woefully underdeveloped set predominantly australia grab attention say cause pretty biased come hear tell mission impossible ii low poi...  \n",
       "7   entertainign mission impossible second installment turn terrible screenwriter know fill 2 hrs action overuse heroic slow motion scene horrible need barf bag stand slo mo second 15 second amazed decide push m movie turn well hard beat lousy piece ...  \n",
       "20  scream 3 lackluster screenplay unimaginative kill leave film bore watch meta narrative trilogy film abysmal plot film create lore past movie seemingly blue muddle continuity shock value add little film feel force entire plot point sidney mother h...  \n",
       "31  highlander 2 complete disgrace highlander 3 try compensation movie make look bad worn tv series little original film movie come try bring good world fail completely problem start miserably write script idea truly consider good intelligent time fe...  \n",
       "51  black detective gotham desperately want nail snooty racist murderer nephew original john shaft detective new york city samuel l. jackson try apprehend arrogant racist killer christian bale find key witness toni collette deal gang lord jeffrey wri...  "
      ]
     },
     "execution_count": 8,
     "metadata": {},
     "output_type": "execute_result"
    }
   ],
   "source": [
    "df = joblib.load('Data-NLP/df_high_low_reviews-1')\n",
    "df.head()"
   ]
  },
  {
   "cell_type": "code",
   "execution_count": 9,
   "id": "bfb2a938-707e-4e20-9fb4-228a91aec822",
   "metadata": {},
   "outputs": [
    {
     "data": {
      "text/plain": [
       "0"
      ]
     },
     "execution_count": 9,
     "metadata": {},
     "output_type": "execute_result"
    }
   ],
   "source": [
    "df[\"rating\"].isna().sum()"
   ]
  },
  {
   "cell_type": "code",
   "execution_count": 10,
   "id": "ae17529b-531b-496d-aeb1-8667fe7ad3af",
   "metadata": {},
   "outputs": [],
   "source": [
    "df_ml = df"
   ]
  },
  {
   "cell_type": "code",
   "execution_count": 11,
   "id": "e180c7f1-ea40-4a3a-a19c-58b8d83f5d41",
   "metadata": {},
   "outputs": [],
   "source": [
    "def create_groups(x):\n",
    "    if x<=4.0:\n",
    "        return 0\n",
    "    elif x >=5.0:\n",
    "        return 1\n",
    "    else: \n",
    "        return None"
   ]
  },
  {
   "cell_type": "code",
   "execution_count": 12,
   "id": "06721c4f-458a-4fd8-9c83-0fdf74c08282",
   "metadata": {},
   "outputs": [
    {
     "data": {
      "text/plain": [
       "0    1224\n",
       "1    1195\n",
       "Name: high_low, dtype: int64"
      ]
     },
     "execution_count": 12,
     "metadata": {},
     "output_type": "execute_result"
    }
   ],
   "source": [
    "## Use the function to create a new \"rating\" column with groups\n",
    "df_ml['high_low'] = df_ml['rating'].map(create_groups)\n",
    "df_ml['high_low'].value_counts(dropna=False)"
   ]
  },
  {
   "cell_type": "markdown",
   "id": "8c9167a1-8c1e-4c3f-a65c-0287dde93e72",
   "metadata": {},
   "source": [
    "## Train Test Split"
   ]
  },
  {
   "cell_type": "code",
   "execution_count": 13,
   "id": "19789fdd-3d4d-4e8d-9ead-d2824702e851",
   "metadata": {},
   "outputs": [],
   "source": [
    "# Define X and y\n",
    "X = df_ml['review']\n",
    "y= df_ml[\"high_low\"]"
   ]
  },
  {
   "cell_type": "code",
   "execution_count": 14,
   "id": "65aec2e2-7a7a-4aaa-8bee-7dc1f719e9b1",
   "metadata": {},
   "outputs": [
    {
     "data": {
      "text/plain": [
       "(1693, 726)"
      ]
     },
     "execution_count": 14,
     "metadata": {},
     "output_type": "execute_result"
    }
   ],
   "source": [
    "# Perform 70:30 train test split\n",
    "X_train, X_test, y_train, y_test = train_test_split(X, y, test_size=.3, random_state=42)\n",
    "len(X_train), len(X_test)"
   ]
  },
  {
   "cell_type": "markdown",
   "id": "2c2e2b65-362b-4cca-8485-93abc56c662b",
   "metadata": {},
   "source": [
    "## Build Model"
   ]
  },
  {
   "cell_type": "code",
   "execution_count": 27,
   "id": "bc1167fa-58a8-487a-b619-fced73208054",
   "metadata": {},
   "outputs": [
    {
     "name": "stdout",
     "output_type": "stream",
     "text": [
      "----------------------------------------------------------------------\n",
      " Classification Metrics: Training Data\n",
      "----------------------------------------------------------------------\n",
      "              precision    recall  f1-score   support\n",
      "\n",
      "           0       0.98      0.99      0.98       839\n",
      "           1       0.99      0.98      0.98       854\n",
      "\n",
      "    accuracy                           0.98      1693\n",
      "   macro avg       0.98      0.98      0.98      1693\n",
      "weighted avg       0.98      0.98      0.98      1693\n",
      "\n"
     ]
    },
    {
     "data": {
      "image/png": "[encoded data removed]",
      "text/plain": [
       "<Figure size 600x400 with 2 Axes>"
      ]
     },
     "metadata": {},
     "output_type": "display_data"
    },
    {
     "name": "stdout",
     "output_type": "stream",
     "text": [
      "\n",
      "----------------------------------------------------------------------\n",
      " Classification Metrics: Test Data\n",
      "----------------------------------------------------------------------\n",
      "              precision    recall  f1-score   support\n",
      "\n",
      "           0       0.89      0.86      0.88       385\n",
      "           1       0.85      0.88      0.86       341\n",
      "\n",
      "    accuracy                           0.87       726\n",
      "   macro avg       0.87      0.87      0.87       726\n",
      "weighted avg       0.87      0.87      0.87       726\n",
      "\n"
     ]
    },
    {
     "data": {
      "image/png": "[encoded data removed]",
      "text/plain": [
       "<Figure size 600x400 with 2 Axes>"
      ]
     },
     "metadata": {},
     "output_type": "display_data"
    }
   ],
   "source": [
    "## Create a model pipeline \n",
    "text_pipe = Pipeline([('vectorizer',  CountVectorizer()), \n",
    "                       ('clf',  MultinomialNB())])\n",
    "\n",
    "text_pipe.fit(X_train, y_train)\n",
    "fn.evaluate_classification(text_pipe, X_train, y_train, X_test, y_test,)"
   ]
  },
  {
   "cell_type": "markdown",
   "id": "d89ddfc8-cf07-4018-9c84-2c190a6b32a9",
   "metadata": {},
   "source": [
    "This model is pretty good with an overall 87% accuracy. It predicated both classes at about the same rate."
   ]
  },
  {
   "cell_type": "markdown",
   "id": "ec5ae1cc-e72a-41fc-982b-6d7bc1e4e46a",
   "metadata": {},
   "source": [
    "## Gridseacrh Text Vectorization"
   ]
  },
  {
   "cell_type": "code",
   "execution_count": 28,
   "id": "60d21083-5ce2-46c4-86d9-3bf9895e91df",
   "metadata": {},
   "outputs": [],
   "source": [
    "# Define params to try for both vectorizers\n",
    "param_grid_shared = {\n",
    "    \"vectorizer__max_df\": [0.7, 0.8, 0.9],\n",
    "    'vectorizer__min_df': [ 2, 3, 4 ], \n",
    "    \"vectorizer__max_features\": [None, 1000, 2000],\n",
    "    \"vectorizer__stop_words\": [None,'english']\n",
    "}\n",
    "\n",
    "# Setting params for the count vectorizer\n",
    "param_grid_count = {\n",
    "    'vectorizer':[CountVectorizer()],\n",
    "    **param_grid_shared\n",
    "}\n",
    "\n",
    "\n",
    "# Setting params for tfidf vectorizer \n",
    "param_grid_tfidf = {\n",
    "    'vectorizer': [TfidfVectorizer()],\n",
    "    \"vectorizer__norm\": [\"l1\", \"l2\"],\n",
    "    \"vectorizer__use_idf\": [True, False],\n",
    "    **param_grid_shared\n",
    "}\n",
    "\n",
    "# combine into list of params\n",
    "vect_params_combined = [param_grid_count, param_grid_tfidf]\n",
    "\n"
   ]
  },
  {
   "cell_type": "code",
   "execution_count": 29,
   "id": "6dce5631-952d-4ff3-af28-f8bd23d1f093",
   "metadata": {},
   "outputs": [],
   "source": [
    "# Define parameters to tune multiple models\n",
    "\n",
    "param_grid_RF = {\n",
    "    'clf' : [RandomForestClassifier(random_state = 42)],\n",
    "    'clf__max_depth' : [5, None],\n",
    "    'clf__min_samples_leaf' : [1, 2],\n",
    "}\n",
    "\n",
    "param_grid_MNB = {\n",
    "    'clf' : [MultinomialNB()],\n",
    "    'clf__alpha' : [.5, 1],\n",
    "}\n",
    "\n",
    "param_grid_logreg = {\n",
    "    'clf': [LogisticRegression(random_state = 42)],\n",
    "    'clf__C' : [.1, 1, 10, 100],\n",
    "}\n",
    "\n",
    "# combine into list of params\n",
    "model_params_combined = [param_grid_RF, param_grid_MNB, param_grid_logreg]\n",
    "\n"
   ]
  },
  {
   "cell_type": "code",
   "execution_count": 30,
   "id": "0f66aac4-97f0-42f7-baac-9ee09fa891fc",
   "metadata": {},
   "outputs": [
    {
     "data": {
      "text/plain": [
       "({'vectorizer': [CountVectorizer()],\n",
       "  'vectorizer__max_df': [0.7, 0.8, 0.9],\n",
       "  'vectorizer__min_df': [2, 3, 4],\n",
       "  'vectorizer__max_features': [None, 1000, 2000],\n",
       "  'vectorizer__stop_words': [None, 'english']},\n",
       " {'clf': [RandomForestClassifier(random_state=42)],\n",
       "  'clf__max_depth': [5, None],\n",
       "  'clf__min_samples_leaf': [1, 2]})"
      ]
     },
     "execution_count": 30,
     "metadata": {},
     "output_type": "execute_result"
    }
   ],
   "source": [
    "import itertools\n",
    "\n",
    "paired_param_grids = list(itertools.product(vect_params_combined, model_params_combined))\n",
    "paired_param_grids[0]\n",
    "\n"
   ]
  },
  {
   "cell_type": "code",
   "execution_count": 31,
   "id": "d0e0585f-8fa7-418a-ab5c-d55bf349c28b",
   "metadata": {},
   "outputs": [
    {
     "data": {
      "text/plain": [
       "{'vectorizer': [CountVectorizer()],\n",
       " 'vectorizer__max_df': [0.7, 0.8, 0.9],\n",
       " 'vectorizer__min_df': [2, 3, 4],\n",
       " 'vectorizer__max_features': [None, 1000, 2000],\n",
       " 'vectorizer__stop_words': [None, 'english'],\n",
       " 'clf': [RandomForestClassifier(random_state=42)],\n",
       " 'clf__max_depth': [5, None],\n",
       " 'clf__min_samples_leaf': [1, 2]}"
      ]
     },
     "execution_count": 31,
     "metadata": {},
     "output_type": "execute_result"
    }
   ],
   "source": [
    "final_params = []\n",
    "for vector_params, model_params in  paired_param_grids:\n",
    "    combined = {**vector_params, **model_params}\n",
    "    final_params.append(combined)\n",
    "final_params[0]\n",
    "\n"
   ]
  },
  {
   "cell_type": "code",
   "execution_count": 32,
   "id": "ddf591ab-9d15-4dad-9bdf-05f3455b801a",
   "metadata": {},
   "outputs": [
    {
     "name": "stdout",
     "output_type": "stream",
     "text": [
      "Fitting 3 folds for each of 2700 candidates, totalling 8100 fits\n",
      "CPU times: total: 56.4 s\n",
      "Wall time: 10min 43s\n"
     ]
    },
    {
     "data": {
      "text/html": [
       "<style>#sk-container-id-1 {color: black;background-color: white;}#sk-container-id-1 pre{padding: 0;}#sk-container-id-1 div.sk-toggleable {background-color: white;}#sk-container-id-1 label.sk-toggleable__label {cursor: pointer;display: block;width: 100%;margin-bottom: 0;padding: 0.3em;box-sizing: border-box;text-align: center;}#sk-container-id-1 label.sk-toggleable__label-arrow:before {content: \"▸\";float: left;margin-right: 0.25em;color: #696969;}#sk-container-id-1 label.sk-toggleable__label-arrow:hover:before {color: black;}#sk-container-id-1 div.sk-estimator:hover label.sk-toggleable__label-arrow:before {color: black;}#sk-container-id-1 div.sk-toggleable__content {max-height: 0;max-width: 0;overflow: hidden;text-align: left;background-color: #f0f8ff;}#sk-container-id-1 div.sk-toggleable__content pre {margin: 0.2em;color: black;border-radius: 0.25em;background-color: #f0f8ff;}#sk-container-id-1 input.sk-toggleable__control:checked~div.sk-toggleable__content {max-height: 200px;max-width: 100%;overflow: auto;}#sk-container-id-1 input.sk-toggleable__control:checked~label.sk-toggleable__label-arrow:before {content: \"▾\";}#sk-container-id-1 div.sk-estimator input.sk-toggleable__control:checked~label.sk-toggleable__label {background-color: #d4ebff;}#sk-container-id-1 div.sk-label input.sk-toggleable__control:checked~label.sk-toggleable__label {background-color: #d4ebff;}#sk-container-id-1 input.sk-hidden--visually {border: 0;clip: rect(1px 1px 1px 1px);clip: rect(1px, 1px, 1px, 1px);height: 1px;margin: -1px;overflow: hidden;padding: 0;position: absolute;width: 1px;}#sk-container-id-1 div.sk-estimator {font-family: monospace;background-color: #f0f8ff;border: 1px dotted black;border-radius: 0.25em;box-sizing: border-box;margin-bottom: 0.5em;}#sk-container-id-1 div.sk-estimator:hover {background-color: #d4ebff;}#sk-container-id-1 div.sk-parallel-item::after {content: \"\";width: 100%;border-bottom: 1px solid gray;flex-grow: 1;}#sk-container-id-1 div.sk-label:hover label.sk-toggleable__label {background-color: #d4ebff;}#sk-container-id-1 div.sk-serial::before {content: \"\";position: absolute;border-left: 1px solid gray;box-sizing: border-box;top: 0;bottom: 0;left: 50%;z-index: 0;}#sk-container-id-1 div.sk-serial {display: flex;flex-direction: column;align-items: center;background-color: white;padding-right: 0.2em;padding-left: 0.2em;position: relative;}#sk-container-id-1 div.sk-item {position: relative;z-index: 1;}#sk-container-id-1 div.sk-parallel {display: flex;align-items: stretch;justify-content: center;background-color: white;position: relative;}#sk-container-id-1 div.sk-item::before, #sk-container-id-1 div.sk-parallel-item::before {content: \"\";position: absolute;border-left: 1px solid gray;box-sizing: border-box;top: 0;bottom: 0;left: 50%;z-index: -1;}#sk-container-id-1 div.sk-parallel-item {display: flex;flex-direction: column;z-index: 1;position: relative;background-color: white;}#sk-container-id-1 div.sk-parallel-item:first-child::after {align-self: flex-end;width: 50%;}#sk-container-id-1 div.sk-parallel-item:last-child::after {align-self: flex-start;width: 50%;}#sk-container-id-1 div.sk-parallel-item:only-child::after {width: 0;}#sk-container-id-1 div.sk-dashed-wrapped {border: 1px dashed gray;margin: 0 0.4em 0.5em 0.4em;box-sizing: border-box;padding-bottom: 0.4em;background-color: white;}#sk-container-id-1 div.sk-label label {font-family: monospace;font-weight: bold;display: inline-block;line-height: 1.2em;}#sk-container-id-1 div.sk-label-container {text-align: center;}#sk-container-id-1 div.sk-container {/* jupyter's `normalize.less` sets `[hidden] { display: none; }` but bootstrap.min.css set `[hidden] { display: none !important; }` so we also need the `!important` here to be able to override the default hidden behavior on the sphinx rendered scikit-learn.org. See: https://github.com/scikit-learn/scikit-learn/issues/21755 */display: inline-block !important;position: relative;}#sk-container-id-1 div.sk-text-repr-fallback {display: none;}</style><div id=\"sk-container-id-1\" class=\"sk-top-container\"><div class=\"sk-text-repr-fallback\"><pre>GridSearchCV(cv=3,\n",
       "             estimator=Pipeline(steps=[(&#x27;vectorizer&#x27;, CountVectorizer()),\n",
       "                                       (&#x27;clf&#x27;, MultinomialNB())]),\n",
       "             n_jobs=-1,\n",
       "             param_grid=[{&#x27;clf&#x27;: [RandomForestClassifier(random_state=42)],\n",
       "                          &#x27;clf__max_depth&#x27;: [5, None],\n",
       "                          &#x27;clf__min_samples_leaf&#x27;: [1, 2],\n",
       "                          &#x27;vectorizer&#x27;: [CountVectorizer()],\n",
       "                          &#x27;vectorizer__max_df&#x27;: [0.7, 0.8, 0.9],\n",
       "                          &#x27;vectorizer__max_features&#x27;: [None, 1000, 2000],\n",
       "                          &#x27;vectori...\n",
       "                         {&#x27;clf&#x27;: [LogisticRegression(C=10, random_state=42)],\n",
       "                          &#x27;clf__C&#x27;: [0.1, 1, 10, 100],\n",
       "                          &#x27;vectorizer&#x27;: [TfidfVectorizer(max_df=0.7, min_df=2)],\n",
       "                          &#x27;vectorizer__max_df&#x27;: [0.7, 0.8, 0.9],\n",
       "                          &#x27;vectorizer__max_features&#x27;: [None, 1000, 2000],\n",
       "                          &#x27;vectorizer__min_df&#x27;: [2, 3, 4],\n",
       "                          &#x27;vectorizer__norm&#x27;: [&#x27;l1&#x27;, &#x27;l2&#x27;],\n",
       "                          &#x27;vectorizer__stop_words&#x27;: [None, &#x27;english&#x27;],\n",
       "                          &#x27;vectorizer__use_idf&#x27;: [True, False]}],\n",
       "             scoring=&#x27;accuracy&#x27;, verbose=1)</pre><b>In a Jupyter environment, please rerun this cell to show the HTML representation or trust the notebook. <br />On GitHub, the HTML representation is unable to render, please try loading this page with nbviewer.org.</b></div><div class=\"sk-container\" hidden><div class=\"sk-item sk-dashed-wrapped\"><div class=\"sk-label-container\"><div class=\"sk-label sk-toggleable\"><input class=\"sk-toggleable__control sk-hidden--visually\" id=\"sk-estimator-id-1\" type=\"checkbox\" ><label for=\"sk-estimator-id-1\" class=\"sk-toggleable__label sk-toggleable__label-arrow\">GridSearchCV</label><div class=\"sk-toggleable__content\"><pre>GridSearchCV(cv=3,\n",
       "             estimator=Pipeline(steps=[(&#x27;vectorizer&#x27;, CountVectorizer()),\n",
       "                                       (&#x27;clf&#x27;, MultinomialNB())]),\n",
       "             n_jobs=-1,\n",
       "             param_grid=[{&#x27;clf&#x27;: [RandomForestClassifier(random_state=42)],\n",
       "                          &#x27;clf__max_depth&#x27;: [5, None],\n",
       "                          &#x27;clf__min_samples_leaf&#x27;: [1, 2],\n",
       "                          &#x27;vectorizer&#x27;: [CountVectorizer()],\n",
       "                          &#x27;vectorizer__max_df&#x27;: [0.7, 0.8, 0.9],\n",
       "                          &#x27;vectorizer__max_features&#x27;: [None, 1000, 2000],\n",
       "                          &#x27;vectori...\n",
       "                         {&#x27;clf&#x27;: [LogisticRegression(C=10, random_state=42)],\n",
       "                          &#x27;clf__C&#x27;: [0.1, 1, 10, 100],\n",
       "                          &#x27;vectorizer&#x27;: [TfidfVectorizer(max_df=0.7, min_df=2)],\n",
       "                          &#x27;vectorizer__max_df&#x27;: [0.7, 0.8, 0.9],\n",
       "                          &#x27;vectorizer__max_features&#x27;: [None, 1000, 2000],\n",
       "                          &#x27;vectorizer__min_df&#x27;: [2, 3, 4],\n",
       "                          &#x27;vectorizer__norm&#x27;: [&#x27;l1&#x27;, &#x27;l2&#x27;],\n",
       "                          &#x27;vectorizer__stop_words&#x27;: [None, &#x27;english&#x27;],\n",
       "                          &#x27;vectorizer__use_idf&#x27;: [True, False]}],\n",
       "             scoring=&#x27;accuracy&#x27;, verbose=1)</pre></div></div></div><div class=\"sk-parallel\"><div class=\"sk-parallel-item\"><div class=\"sk-item\"><div class=\"sk-label-container\"><div class=\"sk-label sk-toggleable\"><input class=\"sk-toggleable__control sk-hidden--visually\" id=\"sk-estimator-id-2\" type=\"checkbox\" ><label for=\"sk-estimator-id-2\" class=\"sk-toggleable__label sk-toggleable__label-arrow\">estimator: Pipeline</label><div class=\"sk-toggleable__content\"><pre>Pipeline(steps=[(&#x27;vectorizer&#x27;, CountVectorizer()), (&#x27;clf&#x27;, MultinomialNB())])</pre></div></div></div><div class=\"sk-serial\"><div class=\"sk-item\"><div class=\"sk-serial\"><div class=\"sk-item\"><div class=\"sk-estimator sk-toggleable\"><input class=\"sk-toggleable__control sk-hidden--visually\" id=\"sk-estimator-id-3\" type=\"checkbox\" ><label for=\"sk-estimator-id-3\" class=\"sk-toggleable__label sk-toggleable__label-arrow\">CountVectorizer</label><div class=\"sk-toggleable__content\"><pre>CountVectorizer()</pre></div></div></div><div class=\"sk-item\"><div class=\"sk-estimator sk-toggleable\"><input class=\"sk-toggleable__control sk-hidden--visually\" id=\"sk-estimator-id-4\" type=\"checkbox\" ><label for=\"sk-estimator-id-4\" class=\"sk-toggleable__label sk-toggleable__label-arrow\">MultinomialNB</label><div class=\"sk-toggleable__content\"><pre>MultinomialNB()</pre></div></div></div></div></div></div></div></div></div></div></div></div>"
      ],
      "text/plain": [
       "GridSearchCV(cv=3,\n",
       "             estimator=Pipeline(steps=[('vectorizer', CountVectorizer()),\n",
       "                                       ('clf', MultinomialNB())]),\n",
       "             n_jobs=-1,\n",
       "             param_grid=[{'clf': [RandomForestClassifier(random_state=42)],\n",
       "                          'clf__max_depth': [5, None],\n",
       "                          'clf__min_samples_leaf': [1, 2],\n",
       "                          'vectorizer': [CountVectorizer()],\n",
       "                          'vectorizer__max_df': [0.7, 0.8, 0.9],\n",
       "                          'vectorizer__max_features': [None, 1000, 2000],\n",
       "                          'vectori...\n",
       "                         {'clf': [LogisticRegression(C=10, random_state=42)],\n",
       "                          'clf__C': [0.1, 1, 10, 100],\n",
       "                          'vectorizer': [TfidfVectorizer(max_df=0.7, min_df=2)],\n",
       "                          'vectorizer__max_df': [0.7, 0.8, 0.9],\n",
       "                          'vectorizer__max_features': [None, 1000, 2000],\n",
       "                          'vectorizer__min_df': [2, 3, 4],\n",
       "                          'vectorizer__norm': ['l1', 'l2'],\n",
       "                          'vectorizer__stop_words': [None, 'english'],\n",
       "                          'vectorizer__use_idf': [True, False]}],\n",
       "             scoring='accuracy', verbose=1)"
      ]
     },
     "execution_count": 32,
     "metadata": {},
     "output_type": "execute_result"
    }
   ],
   "source": [
    "%%time\n",
    "# Create grid search\n",
    "grid_search = GridSearchCV(text_pipe, final_params, cv=3, scoring = 'accuracy', verbose=1, n_jobs=-1)\n",
    "    \n",
    "    \n",
    "# Fit the model\n",
    "grid_search.fit(X_train, y_train)\n",
    "\n"
   ]
  },
  {
   "cell_type": "code",
   "execution_count": 33,
   "id": "95240406-d102-49ec-aea6-b4be8d97be54",
   "metadata": {},
   "outputs": [
    {
     "data": {
      "text/plain": [
       "{'clf': LogisticRegression(C=10, random_state=42),\n",
       " 'clf__C': 10,\n",
       " 'vectorizer': TfidfVectorizer(max_df=0.7, min_df=2),\n",
       " 'vectorizer__max_df': 0.7,\n",
       " 'vectorizer__max_features': None,\n",
       " 'vectorizer__min_df': 2,\n",
       " 'vectorizer__norm': 'l2',\n",
       " 'vectorizer__stop_words': None,\n",
       " 'vectorizer__use_idf': True}"
      ]
     },
     "execution_count": 33,
     "metadata": {},
     "output_type": "execute_result"
    }
   ],
   "source": [
    "grid_search.best_params_\n",
    "\n"
   ]
  },
  {
   "cell_type": "code",
   "execution_count": 35,
   "id": "ec389334-928a-4633-8a1f-98ac22c8b504",
   "metadata": {},
   "outputs": [
    {
     "name": "stdout",
     "output_type": "stream",
     "text": [
      "----------------------------------------------------------------------\n",
      " Classification Metrics: Training Data\n",
      "----------------------------------------------------------------------\n",
      "              precision    recall  f1-score   support\n",
      "\n",
      "           0       1.00      1.00      1.00       839\n",
      "           1       1.00      1.00      1.00       854\n",
      "\n",
      "    accuracy                           1.00      1693\n",
      "   macro avg       1.00      1.00      1.00      1693\n",
      "weighted avg       1.00      1.00      1.00      1693\n",
      "\n"
     ]
    },
    {
     "data": {
      "image/png": "[encoded data removed]",
      "text/plain": [
       "<Figure size 600x400 with 2 Axes>"
      ]
     },
     "metadata": {},
     "output_type": "display_data"
    },
    {
     "name": "stdout",
     "output_type": "stream",
     "text": [
      "\n",
      "----------------------------------------------------------------------\n",
      " Classification Metrics: Test Data\n",
      "----------------------------------------------------------------------\n",
      "              precision    recall  f1-score   support\n",
      "\n",
      "           0       0.91      0.89      0.90       385\n",
      "           1       0.88      0.90      0.89       341\n",
      "\n",
      "    accuracy                           0.89       726\n",
      "   macro avg       0.89      0.89      0.89       726\n",
      "weighted avg       0.89      0.89      0.89       726\n",
      "\n"
     ]
    },
    {
     "data": {
      "image/png": "[encoded data removed]",
      "text/plain": [
       "<Figure size 600x400 with 2 Axes>"
      ]
     },
     "metadata": {},
     "output_type": "display_data"
    }
   ],
   "source": [
    "# Now define the best version of the model\n",
    "best_model = grid_search.best_estimator_\n",
    "\n",
    "# Predict and Evaluate with the custom function\n",
    "fn.evaluate_classification(best_model, X_train, y_train, X_test, y_test)\n",
    "\n"
   ]
  },
  {
   "cell_type": "code",
   "execution_count": 36,
   "id": "dc4a4ade-dc31-42c1-bc40-5b68553b11f3",
   "metadata": {},
   "outputs": [
    {
     "data": {
      "text/plain": [
       "['Models/Gridsearch_full']"
      ]
     },
     "execution_count": 36,
     "metadata": {},
     "output_type": "execute_result"
    }
   ],
   "source": [
    "joblib.dump(grid_search, \"Models/Gridsearch_full\")"
   ]
  },
  {
   "cell_type": "code",
   "execution_count": 38,
   "id": "ea0da52a-ac44-491e-ab3c-d63f5bde1b83",
   "metadata": {},
   "outputs": [
    {
     "data": {
      "text/plain": [
       "['Models/gridseacrh_89']"
      ]
     },
     "execution_count": 38,
     "metadata": {},
     "output_type": "execute_result"
    }
   ],
   "source": [
    "joblib.dump(best_model, \"Models/gridseacrh_89\")"
   ]
  },
  {
   "cell_type": "markdown",
   "id": "24d721ca-a8c0-461a-a171-82bda1ca4b90",
   "metadata": {},
   "source": [
    "Below were the best parameters:\n",
    "\n",
    "{'clf': LogisticRegression(C=10, random_state=42),\r\n",
    " 'clf__C': 10,\r\n",
    " 'vectorizer': TfidfVectorizer(max_df=0.7, min_df=2),\r\n",
    " 'vectorizer__max_df': 0.7,\r\n",
    " 'vectorizer__max_features': None,\r\n",
    " 'vectorizer__min_df': 2,\r\n",
    " 'vectorizer__norm': 'l2',\r\n",
    " 'vectorizer__stop_words': None,\r\n",
    " 'vectorizer__use_idf\n",
    "\n",
    " The above model performed perfectly on the train data and at 89% accuracy on the test data. So, it experienced a loss of 11% accuracy between the train and test data.': True}"
   ]
  },
  {
   "cell_type": "markdown",
   "id": "70900222-aaf9-4ccb-813c-6cc7898b57af",
   "metadata": {},
   "source": [
    "## Deep NLP"
   ]
  },
  {
   "cell_type": "code",
   "execution_count": 39,
   "id": "b99c18ae-36d6-429f-a825-526d0b8f9cd4",
   "metadata": {},
   "outputs": [
    {
     "data": {
      "text/plain": [
       "<_TensorSliceDataset element_spec=(TensorSpec(shape=(), dtype=tf.string, name=None), TensorSpec(shape=(), dtype=tf.int64, name=None))>"
      ]
     },
     "execution_count": 39,
     "metadata": {},
     "output_type": "execute_result"
    }
   ],
   "source": [
    "# Convert to Dataset object\n",
    "ds = tf.data.Dataset.from_tensor_slices((X, y))\n",
    "ds"
   ]
  },
  {
   "cell_type": "code",
   "execution_count": 40,
   "id": "f651823e-b82a-471a-804d-dcd4010e37bf",
   "metadata": {},
   "outputs": [],
   "source": [
    "# shuffling the data once\n",
    "ds = ds.shuffle(buffer_size=len(ds), reshuffle_each_iteration=False)"
   ]
  },
  {
   "cell_type": "code",
   "execution_count": 41,
   "id": "677a4f13-b4f3-4061-90d3-3edef990a102",
   "metadata": {},
   "outputs": [
    {
     "name": "stdout",
     "output_type": "stream",
     "text": [
      "Use 1693 samples as training data\n",
      "Use 483 samples as validation data\n",
      "The remaining 243 samples will be used as test data.\n"
     ]
    }
   ],
   "source": [
    "# Determing how many samples for each split\n",
    "# Calculate the number of samples for training \n",
    "split_train = 0.7\n",
    "n_train_samples =  int(len(ds) * split_train)\n",
    "print(f\"Use {n_train_samples} samples as training data\")\n",
    "# Calculate the number of samples for validation\n",
    "split_val = 0.2\n",
    "n_val_samples = int(len(ds) * split_val)\n",
    "print(f\"Use {n_val_samples} samples as validation data\")\n",
    "# Test size is remainder\n",
    "split_test = 1 - (split_train + split_val)\n",
    "print(f\"The remaining {len(ds)- (n_train_samples+n_val_samples)} samples will be used as test data.\")"
   ]
  },
  {
   "cell_type": "code",
   "execution_count": 42,
   "id": "ff609bd4-b70d-4b43-a2c4-f66cbd957787",
   "metadata": {},
   "outputs": [],
   "source": [
    "# Use .take to slice out the number of samples for training\n",
    "train_ds = ds.take(n_train_samples)\n",
    "# Skipover the training batches\n",
    "val_ds = ds.skip(n_train_samples)\n",
    "# Take .take to slice out the correct number of samples for validation\n",
    "val_ds = val_ds.take(n_val_samples)\n",
    "# Skip over all of the training + validation samples, the rest remain as samples for testing\n",
    "test_ds = ds.skip(n_train_samples + n_val_samples)"
   ]
  },
  {
   "cell_type": "code",
   "execution_count": 43,
   "id": "90e0e86f-013f-4311-9ccb-e8adaf295a20",
   "metadata": {},
   "outputs": [],
   "source": [
    "## Shuffling just the training data  \n",
    "train_ds  = train_ds.shuffle(buffer_size = len(train_ds))"
   ]
  },
  {
   "cell_type": "code",
   "execution_count": 44,
   "id": "e08a13f4-c594-4607-b47f-ae2b637bd9b1",
   "metadata": {},
   "outputs": [
    {
     "name": "stdout",
     "output_type": "stream",
     "text": [
      " There are 53 training batches.\n",
      " There are 16 validation batches.\n",
      " There are 8 testing batches.\n"
     ]
    }
   ],
   "source": [
    "#  Setting the batch_size for all datasets\n",
    "BATCH_SIZE = 32\n",
    "train_ds = train_ds.batch(BATCH_SIZE)\n",
    "val_ds = val_ds.batch(BATCH_SIZE)\n",
    "test_ds = test_ds.batch(BATCH_SIZE)\n",
    "# Confirm the number of batches in each\n",
    "print (f' There are {len(train_ds)} training batches.')\n",
    "print (f' There are {len(val_ds)} validation batches.')\n",
    "print (f' There are {len(test_ds)} testing batches.')"
   ]
  },
  {
   "cell_type": "code",
   "execution_count": 45,
   "id": "383bbede-0eac-4c1f-bfa7-c10b2fcc1b6a",
   "metadata": {},
   "outputs": [],
   "source": [
    "# Get just the text from ds_train\n",
    "ds_texts = train_ds.map(lambda x, y: x)"
   ]
  },
  {
   "cell_type": "code",
   "execution_count": 47,
   "id": "e980a0a3-9bac-4c52-8218-7c3465c42211",
   "metadata": {},
   "outputs": [
    {
     "data": {
      "text/html": [
       "<div>\n",
       "<style scoped>\n",
       "    .dataframe tbody tr th:only-of-type {\n",
       "        vertical-align: middle;\n",
       "    }\n",
       "\n",
       "    .dataframe tbody tr th {\n",
       "        vertical-align: top;\n",
       "    }\n",
       "\n",
       "    .dataframe thead th {\n",
       "        text-align: right;\n",
       "    }\n",
       "</style>\n",
       "<table border=\"1\" class=\"dataframe\">\n",
       "  <thead>\n",
       "    <tr style=\"text-align: right;\">\n",
       "      <th></th>\n",
       "      <th>review_id</th>\n",
       "      <th>movie_id</th>\n",
       "      <th>imdb_id</th>\n",
       "      <th>original_title</th>\n",
       "      <th>review</th>\n",
       "      <th>rating</th>\n",
       "      <th>tokens</th>\n",
       "      <th>joined_tokens</th>\n",
       "      <th>lemmas</th>\n",
       "      <th>joined_lemmas</th>\n",
       "      <th>high_low</th>\n",
       "      <th>sequence_length</th>\n",
       "    </tr>\n",
       "  </thead>\n",
       "  <tbody>\n",
       "    <tr>\n",
       "      <th>6</th>\n",
       "      <td>57b2d23dc3a36837d7000b14</td>\n",
       "      <td>955</td>\n",
       "      <td>tt0120755</td>\n",
       "      <td>Mission: Impossible II</td>\n",
       "      <td>The first underwhelmed me, but this one straight-up bored me. Again, of course seeing Hunt climb a mountain without a harness is impressive sure. And I even quite liked the idea behind the villain of the piece (though even that angle was woefully underdeveloped).\\r\\n\\r\\nEven setting it in predominantly Australia was enough to grab my attention, and that's saying something cause I'm pretty biased when it comes to that. I hear tell that _Mission: Impossible II_ is the low point in the series, and that at least is encouraging, because if anything afterwards is much worse than this one, I don't know if I'll be able to make it through to Rogue Nation.\\r\\n\\r\\n_Final rating:★½: - Boring/disappointing. Avoid if possible._</td>\n",
       "      <td>3.0</td>\n",
       "      <td>[underwhelmed, straight, bored, course, seeing, hunt, climb, mountain, harness, impressive, sure, liked, idea, villain, piece, angle, woefully, underdeveloped, setting, predominantly, australia, grab, attention, saying, cause, pretty, biased, comes, hear, tell, mission, impossible, ii, low, point, series, encouraging, worse, know, able, rogue, nation, final, rating:, ★, ½, boring, disappointing, avoid, possible]</td>\n",
       "      <td>underwhelmed straight bored course seeing hunt climb mountain harness impressive sure liked idea villain piece angle woefully underdeveloped setting predominantly australia grab attention saying cause pretty biased comes hear tell mission impossible ii low point series encouraging worse know able rogue nation final rating: ★ ½ boring disappointing avoid possible</td>\n",
       "      <td>[underwhelme, straight, bore, course, see, hunt, climb, mountain, harness, impressive, sure, like, idea, villain, piece, angle, woefully, underdeveloped, set, predominantly, australia, grab, attention, say, cause, pretty, biased, come, hear, tell, mission, impossible, ii, low, point, series, encouraging, bad, know, able, rogue, nation, final, rating:, ★, ½, boring, disappointing, avoid, possible]</td>\n",
       "      <td>underwhelme straight bore course see hunt climb mountain harness impressive sure like idea villain piece angle woefully underdeveloped set predominantly australia grab attention say cause pretty biased come hear tell mission impossible ii low point series encouraging bad know able rogue nation final rating: ★ ½ boring disappointing avoid possible</td>\n",
       "      <td>0</td>\n",
       "      <td>118</td>\n",
       "    </tr>\n",
       "    <tr>\n",
       "      <th>7</th>\n",
       "      <td>5e9120963679a10018375490</td>\n",
       "      <td>955</td>\n",
       "      <td>tt0120755</td>\n",
       "      <td>Mission: Impossible II</td>\n",
       "      <td>After quite entertainign Mission Impossible I the second installment turned out ... terrible. As if the screenwriters didn't know how to fill the 2 hrs with action the overuse of heroic slow motion scenes is horrible. You almost might need a barf bag if you can't stand slo-mo every five seconds... for 15 seconds. I am amazed they did decide to push on with more M:I movies after this one, then again, these turned out much much better even if it would be hard to beat that lousy piece of crap of a movie.</td>\n",
       "      <td>2.0</td>\n",
       "      <td>[entertainign, mission, impossible, second, installment, turned, terrible, screenwriters, know, fill, 2, hrs, action, overuse, heroic, slow, motion, scenes, horrible, need, barf, bag, stand, slo, mo, seconds, 15, seconds, amazed, decide, push, m, movies, turned, better, hard, beat, lousy, piece, crap, movie]</td>\n",
       "      <td>entertainign mission impossible second installment turned terrible screenwriters know fill 2 hrs action overuse heroic slow motion scenes horrible need barf bag stand slo mo seconds 15 seconds amazed decide push m movies turned better hard beat lousy piece crap movie</td>\n",
       "      <td>[entertainign, mission, impossible, second, installment, turn, terrible, screenwriter, know, fill, 2, hrs, action, overuse, heroic, slow, motion, scene, horrible, need, barf, bag, stand, slo, mo, second, 15, second, amazed, decide, push, m, movie, turn, well, hard, beat, lousy, piece, crap, movie]</td>\n",
       "      <td>entertainign mission impossible second installment turn terrible screenwriter know fill 2 hrs action overuse heroic slow motion scene horrible need barf bag stand slo mo second 15 second amazed decide push m movie turn well hard beat lousy piece crap movie</td>\n",
       "      <td>0</td>\n",
       "      <td>94</td>\n",
       "    </tr>\n",
       "    <tr>\n",
       "      <th>20</th>\n",
       "      <td>6409202f0e441900e887a17b</td>\n",
       "      <td>4234</td>\n",
       "      <td>tt0134084</td>\n",
       "      <td>Scream 3</td>\n",
       "      <td>**_Scream 3’s_ lackluster screenplay and unimaginative kills leave a film that is a bore to watch.**\\r\\n\\r\\nThe meta-narrative of trilogies throughout the film does not make up for how abysmal the plot was. This film creates so much lore for the past movies seemingly out of the blue, muddling up the continuity for shock value. It added very little to this film and felt forced. The entire plot point of Sidney’s mother being a former Hollywood actress was pretty lame, especially with the added plot point of her being sexually assaulted by a movie producer. It may be personal taste, but I absolutely despise when films add that plot point, as it feels incredibly hypocritical since it is something that genuinely happens to an industry, they are involved in. The love triangle between Gale, Dewey, and the Gale actress was pretty dumb and felt undeserved, as we have not seen Gale and Dewey actually together in any of the films.\\r\\n\\r\\nIn horror films, you can have a good movie with a terrible plot as long as the kills are great. Unfortunately, Scream 3 continues the trend of having boring kills with no imagination. There has been only one truly unique kill throughout the entire franchise, and the rest are unbloody stab kills. I understand the meta being about stabbing with a knife, as the in-film movie is called Stab, but please add some gore to it. There is nothing, no blood squirts or body horror, and it caused the entire movie to be boring.\\r\\n\\r\\nOur performances were exactly how I would describe Scream 2, with both Neve Campbell and Courtney Cox being the standouts and David Arquette being average at best. All of the new characters were pretty uninteresting, all of the actors in the film were annoying, and the movie producers felt generic.\\r\\n\\r\\nThe direction of this film felt pretty uninspired. I am not sure if Wes Craven was forced to make this movie by the studio, but nothing about it felt unique and creative. It felt like he was phoning it in for a paycheck.\\r\\n\\r\\nOverall, there were not a lot of redeeming qualities for this film, and it left me feeling unfulfilled as the final credits rolled. Hoping Scream IV has more in store for me than this lackluster film.\\r\\n\\r\\n**Score:** _45%_\\r\\n**Verdict:** _Poor_</td>\n",
       "      <td>4.0</td>\n",
       "      <td>[scream, 3, lackluster, screenplay, unimaginative, kills, leave, film, bore, watch, meta, narrative, trilogies, film, abysmal, plot, film, creates, lore, past, movies, seemingly, blue, muddling, continuity, shock, value, added, little, film, felt, forced, entire, plot, point, sidney, mother, hollywood, actress, pretty, lame, especially, added, plot, point, sexually, assaulted, movie, producer, personal, taste, absolutely, despise, films, add, plot, point, feels, incredibly, hypocritical, genuinely, happens, industry, involved, love, triangle, gale, dewey, gale, actress, pretty, dumb, felt, undeserved, seen, gale, dewey, actually, films, horror, films, good, movie, terrible, plot, long, kills, great, unfortunately, scream, 3, continues, trend, having, boring, kills, imagination, truly, unique, kill, ...]</td>\n",
       "      <td>scream 3 lackluster screenplay unimaginative kills leave film bore watch meta narrative trilogies film abysmal plot film creates lore past movies seemingly blue muddling continuity shock value added little film felt forced entire plot point sidney mother hollywood actress pretty lame especially added plot point sexually assaulted movie producer personal taste absolutely despise films add plot point feels incredibly hypocritical genuinely happens industry involved love triangle gale dewey gale actress pretty dumb felt undeserved seen gale dewey actually films horror films good movie terrible plot long kills great unfortunately scream 3 continues trend having boring kills imagination truly unique kill entire franchise rest unbloody stab kills understand meta stabbing knife film movie called stab add gore blood squirts body horror caused entire movie boring performances exactly describe scream 2 neve campbell courtney cox standouts david arquette average best new characters pretty uninteresting actors film annoying movie producers felt generic direction film felt pretty uninspired sure wes craven forced movie studio felt unique creative felt like phoning paycheck overall lot redeeming qualities film left feeling unfulfilled final credits rolled hoping scream iv store lackluster film score 45 verdict poor</td>\n",
       "      <td>[scream, 3, lackluster, screenplay, unimaginative, kill, leave, film, bore, watch, meta, narrative, trilogy, film, abysmal, plot, film, create, lore, past, movie, seemingly, blue, muddle, continuity, shock, value, add, little, film, feel, force, entire, plot, point, sidney, mother, hollywood, actress, pretty, lame, especially, add, plot, point, sexually, assault, movie, producer, personal, taste, absolutely, despise, film, add, plot, point, feel, incredibly, hypocritical, genuinely, happen, industry, involve, love, triangle, gale, dewey, gale, actress, pretty, dumb, feel, undeserved, see, gale, dewey, actually, film, horror, film, good, movie, terrible, plot, long, kill, great, unfortunately, scream, 3, continue, trend, have, boring, kill, imagination, truly, unique, kill, ...]</td>\n",
       "      <td>scream 3 lackluster screenplay unimaginative kill leave film bore watch meta narrative trilogy film abysmal plot film create lore past movie seemingly blue muddle continuity shock value add little film feel force entire plot point sidney mother hollywood actress pretty lame especially add plot point sexually assault movie producer personal taste absolutely despise film add plot point feel incredibly hypocritical genuinely happen industry involve love triangle gale dewey gale actress pretty dumb feel undeserved see gale dewey actually film horror film good movie terrible plot long kill great unfortunately scream 3 continue trend have boring kill imagination truly unique kill entire franchise rest unbloody stab kill understand meta stab knife film movie call stab add gore blood squirt body horror cause entire movie boring performance exactly describe scream 2 neve campbell courtney cox standout david arquette average well new character pretty uninteresting actor film annoying movie producer feel generic direction film feel pretty uninspired sure wes craven force movie studio feel unique creative feel like phone paycheck overall lot redeem quality film leave feel unfulfilled final credit roll hope scream iv store lackluster film score 45 verdict poor</td>\n",
       "      <td>0</td>\n",
       "      <td>380</td>\n",
       "    </tr>\n",
       "    <tr>\n",
       "      <th>31</th>\n",
       "      <td>63578ba8c8a2d4008a00ff77</td>\n",
       "      <td>12211</td>\n",
       "      <td>tt0144964</td>\n",
       "      <td>Highlander: Endgame</td>\n",
       "      <td>**There should have been only one!**\\r\\n\\r\\nIf “Highlander 2” was a complete disgrace and “Highlander 3” somehow tried to give us some compensation, this movie makes it look worse and more worn out. However, a TV series had been made that had little or nothing to do with the original film. What this movie came to try to do is to bring together the best of both worlds, but it failed completely.\\r\\n\\r\\nThe problems start at the bottom, that is, in the miserably written script and without ideas that can truly be considered good or intelligent. At no time did I feel that the story of this film was interesting or captivating enough to justify the effort of seeing it. From the development it makes, we must assume that the action takes place after what we saw in the original film, which doesn't make much sense if we remember that this film ends in the victory of Connor, the last and only Immortal. The film has lots of plot holes and moments where logic and coherence take a vacation and disappear. The dialogues are poor, poorly finished and annoying. Historical flashbacks don't always work.\\r\\n\\r\\nThe cast counts, for the last time, with the honorable participation of Christopher Lambert, now a mature actor. So mature it sounds dangerously old for the role he plays. Despite this, the actor does what he can with what little he has. Adrian Paul also doesn't let us down and gives a good performance, considering the filthy and regrettable quality of the material written for this film. Bruce Payne sounds histrionic and unconvincing, but he does what he has to do. The rest of the actors don't really have anything really good worth mentioning in detail.\\r\\n\\r\\nVictim of a very low budget, the film appears for what it is: a very cheap and undercooked production, which tastes bad and looks even worse than it tastes. An excuse for an action movie with swords and frantic duels amid a series of abandoned or deserted industrial sites. The cinematography, sets and costumes are what we would expect to find, but the visual effects and CGI are poor, amateurish and really inexcusable in a 2000s full-length film. It's a disgraceful film.</td>\n",
       "      <td>1.0</td>\n",
       "      <td>[highlander, 2, complete, disgrace, highlander, 3, tried, compensation, movie, makes, look, worse, worn, tv, series, little, original, film, movie, came, try, bring, best, worlds, failed, completely, problems, start, miserably, written, script, ideas, truly, considered, good, intelligent, time, feel, story, film, interesting, captivating, justify, effort, seeing, development, makes, assume, action, takes, place, saw, original, film, sense, remember, film, ends, victory, connor, immortal, film, lots, plot, holes, moments, logic, coherence, vacation, disappear, dialogues, poor, poorly, finished, annoying, historical, flashbacks, work, cast, counts, time, honorable, participation, christopher, lambert, mature, actor, mature, sounds, dangerously, old, role, plays, despite, actor, little, adrian, paul, let, gives, ...]</td>\n",
       "      <td>highlander 2 complete disgrace highlander 3 tried compensation movie makes look worse worn tv series little original film movie came try bring best worlds failed completely problems start miserably written script ideas truly considered good intelligent time feel story film interesting captivating justify effort seeing development makes assume action takes place saw original film sense remember film ends victory connor immortal film lots plot holes moments logic coherence vacation disappear dialogues poor poorly finished annoying historical flashbacks work cast counts time honorable participation christopher lambert mature actor mature sounds dangerously old role plays despite actor little adrian paul let gives good performance considering filthy regrettable quality material written film bruce payne sounds histrionic unconvincing rest actors good worth mentioning detail victim low budget film appears cheap undercooked production tastes bad looks worse tastes excuse action movie swords frantic duels amid series abandoned deserted industrial sites cinematography sets costumes expect find visual effects cgi poor amateurish inexcusable 2000s length film disgraceful film</td>\n",
       "      <td>[highlander, 2, complete, disgrace, highlander, 3, try, compensation, movie, make, look, bad, worn, tv, series, little, original, film, movie, come, try, bring, good, world, fail, completely, problem, start, miserably, write, script, idea, truly, consider, good, intelligent, time, feel, story, film, interesting, captivate, justify, effort, see, development, make, assume, action, take, place, see, original, film, sense, remember, film, end, victory, connor, immortal, film, lot, plot, hole, moment, logic, coherence, vacation, disappear, dialogue, poor, poorly, finish, annoying, historical, flashback, work, cast, count, time, honorable, participation, christopher, lambert, mature, actor, mature, sound, dangerously, old, role, play, despite, actor, little, adrian, paul, let, give, ...]</td>\n",
       "      <td>highlander 2 complete disgrace highlander 3 try compensation movie make look bad worn tv series little original film movie come try bring good world fail completely problem start miserably write script idea truly consider good intelligent time feel story film interesting captivate justify effort see development make assume action take place see original film sense remember film end victory connor immortal film lot plot hole moment logic coherence vacation disappear dialogue poor poorly finish annoying historical flashback work cast count time honorable participation christopher lambert mature actor mature sound dangerously old role play despite actor little adrian paul let give good performance consider filthy regrettable quality material write film bruce payne sound histrionic unconvincing rest actor good worth mention detail victim low budget film appear cheap undercooked production taste bad look bad taste excuse action movie sword frantic duel amid series abandon deserted industrial site cinematography set costume expect find visual effect cgi poor amateurish inexcusable 2000s length film disgraceful film</td>\n",
       "      <td>0</td>\n",
       "      <td>368</td>\n",
       "    </tr>\n",
       "    <tr>\n",
       "      <th>51</th>\n",
       "      <td>6110271465e0a2002683d2b6</td>\n",
       "      <td>479</td>\n",
       "      <td>tt0162650</td>\n",
       "      <td>Shaft</td>\n",
       "      <td>_**A black detective in Gotham desperately wants to nail a snooty racist murderer**_ \\r\\n\\r\\nThe nephew of the original John Shaft is a detective in New York City (Samuel L. Jackson) where he tries to apprehend an arrogant racist killer (Christian Bale) by finding a key witness (Toni Collette) while dealing with a gang lord (Jeffrey Wright) and corrupt cops. Vanessa Williams is on hand as a helpful officer.\\r\\n\\r\\n“Shaft” (2000) is a ‘hip’ crime thriller that resurrects the franchise 27 years after the original trilogy from 1971-1973 that featured Richard Roundtree in the title role (he returns here as the aged uncle). The cast and filmmaking are fine; the problem is the lame story with which they’re shackled. \\r\\n\\r\\nThe key crime in the opening act is glaringly weak. Bale’s character is a snooty punk born with a silver spoon in his mouth, but I didn’t buy his rash, racist actions at the night club. It just didn’t ring true, especially since he seems to get along with black people just fine the rest of the movie. Likewise, Collette’s actions aren’t convincing as the doe-eyed bartender. Simply put, the scriptwriters tried too hard to concoct a racist whitey villain when subtly was in order.\\r\\n\\r\\nIf you can roll with that serious flaw, there are enough thrills to amuse, including Jackson as the bad axx protagonist and Wright’s entertaining drug lord. Plus it’s always good to see the charming Vanessa Williams. \\r\\n\\r\\nThe film runs 1 hour, 39 minutes, and was shot in various areas of New York City, as well as nearby Newark. \\r\\n\\r\\nGRADE: C-</td>\n",
       "      <td>4.0</td>\n",
       "      <td>[black, detective, gotham, desperately, wants, nail, snooty, racist, murderer, nephew, original, john, shaft, detective, new, york, city, samuel, l., jackson, tries, apprehend, arrogant, racist, killer, christian, bale, finding, key, witness, toni, collette, dealing, gang, lord, jeffrey, wright, corrupt, cops, vanessa, williams, hand, helpful, officer, shaft, 2000, hip, crime, thriller, resurrects, franchise, 27, years, original, trilogy, 1971, 1973, featured, richard, roundtree, title, role, returns, aged, uncle, cast, filmmaking, fine, problem, lame, story, shackled, key, crime, opening, act, glaringly, weak, bale, character, snooty, punk, born, silver, spoon, mouth, buy, rash, racist, actions, night, club, ring, true, especially, black, people, fine, rest, movie, ...]</td>\n",
       "      <td>black detective gotham desperately wants nail snooty racist murderer nephew original john shaft detective new york city samuel l. jackson tries apprehend arrogant racist killer christian bale finding key witness toni collette dealing gang lord jeffrey wright corrupt cops vanessa williams hand helpful officer shaft 2000 hip crime thriller resurrects franchise 27 years original trilogy 1971 1973 featured richard roundtree title role returns aged uncle cast filmmaking fine problem lame story shackled key crime opening act glaringly weak bale character snooty punk born silver spoon mouth buy rash racist actions night club ring true especially black people fine rest movie likewise collette actions convincing doe eyed bartender simply scriptwriters tried hard concoct racist whitey villain subtly order roll flaw thrills amuse including jackson bad axx protagonist wright entertaining drug lord plus good charming vanessa williams film runs 1 hour 39 minutes shot areas new york city nearby newark grade c-</td>\n",
       "      <td>[black, detective, gotham, desperately, want, nail, snooty, racist, murderer, nephew, original, john, shaft, detective, new, york, city, samuel, l., jackson, try, apprehend, arrogant, racist, killer, christian, bale, find, key, witness, toni, collette, deal, gang, lord, jeffrey, wright, corrupt, cop, vanessa, williams, hand, helpful, officer, shaft, 2000, hip, crime, thriller, resurrect, franchise, 27, year, original, trilogy, 1971, 1973, feature, richard, roundtree, title, role, return, aged, uncle, cast, filmmaking, fine, problem, lame, story, shackle, key, crime, opening, act, glaringly, weak, bale, character, snooty, punk, bear, silver, spoon, mouth, buy, rash, racist, action, night, club, ring, true, especially, black, people, fine, rest, movie, ...]</td>\n",
       "      <td>black detective gotham desperately want nail snooty racist murderer nephew original john shaft detective new york city samuel l. jackson try apprehend arrogant racist killer christian bale find key witness toni collette deal gang lord jeffrey wright corrupt cop vanessa williams hand helpful officer shaft 2000 hip crime thriller resurrect franchise 27 year original trilogy 1971 1973 feature richard roundtree title role return aged uncle cast filmmaking fine problem lame story shackle key crime opening act glaringly weak bale character snooty punk bear silver spoon mouth buy rash racist action night club ring true especially black people fine rest movie likewise collette action convincing doe eyed bartender simply scriptwriter try hard concoct racist whitey villain subtly order roll flaw thrill amuse include jackson bad axx protagonist wright entertaining drug lord plus good charming vanessa williams film run 1 hour 39 minute shoot area new york city nearby newark grade c-</td>\n",
       "      <td>0</td>\n",
       "      <td>261</td>\n",
       "    </tr>\n",
       "  </tbody>\n",
       "</table>\n",
       "</div>"
      ],
      "text/plain": [
       "                   review_id  movie_id    imdb_id          original_title  \\\n",
       "6   57b2d23dc3a36837d7000b14       955  tt0120755  Mission: Impossible II   \n",
       "7   5e9120963679a10018375490       955  tt0120755  Mission: Impossible II   \n",
       "20  6409202f0e441900e887a17b      4234  tt0134084                Scream 3   \n",
       "31  63578ba8c8a2d4008a00ff77     12211  tt0144964     Highlander: Endgame   \n",
       "51  6110271465e0a2002683d2b6       479  tt0162650                   Shaft   \n",
       "\n",
       "                                                                                                                                                                                                                                                                                                                                                                                                                                                                                                                                                                                                                                                                                                                                                                                                                                                                                                                                                                                                                                                                                                                                                                                                                                                                                                                                                                                                                                                                                                                                                                                                                                                                                                                                                                                                                                                                                                                                                                                                                                                                                                                                                                                                                                                                                                                                       review  \\\n",
       "6                                                                                                                                                                                                                                                                                                                                                                                                                                                                                                                                                                                                                                                                                                                                                                                                                                                                                                                                                                                                                                                                                                                                                                                                                                                                                                                                                                                                                                                                                                                                                                                         The first underwhelmed me, but this one straight-up bored me. Again, of course seeing Hunt climb a mountain without a harness is impressive sure. And I even quite liked the idea behind the villain of the piece (though even that angle was woefully underdeveloped).\\r\\n\\r\\nEven setting it in predominantly Australia was enough to grab my attention, and that's saying something cause I'm pretty biased when it comes to that. I hear tell that _Mission: Impossible II_ is the low point in the series, and that at least is encouraging, because if anything afterwards is much worse than this one, I don't know if I'll be able to make it through to Rogue Nation.\\r\\n\\r\\n_Final rating:★½: - Boring/disappointing. Avoid if possible._   \n",
       "7                                                                                                                                                                                                                                                                                                                                                                                                                                                                                                                                                                                                                                                                                                                                                                                                                                                                                                                                                                                                                                                                                                                                                                                                                                                                                                                                                                                                                                                                                                                                                                                                                                                                                                                                                                                                                  After quite entertainign Mission Impossible I the second installment turned out ... terrible. As if the screenwriters didn't know how to fill the 2 hrs with action the overuse of heroic slow motion scenes is horrible. You almost might need a barf bag if you can't stand slo-mo every five seconds... for 15 seconds. I am amazed they did decide to push on with more M:I movies after this one, then again, these turned out much much better even if it would be hard to beat that lousy piece of crap of a movie.   \n",
       "20  **_Scream 3’s_ lackluster screenplay and unimaginative kills leave a film that is a bore to watch.**\\r\\n\\r\\nThe meta-narrative of trilogies throughout the film does not make up for how abysmal the plot was. This film creates so much lore for the past movies seemingly out of the blue, muddling up the continuity for shock value. It added very little to this film and felt forced. The entire plot point of Sidney’s mother being a former Hollywood actress was pretty lame, especially with the added plot point of her being sexually assaulted by a movie producer. It may be personal taste, but I absolutely despise when films add that plot point, as it feels incredibly hypocritical since it is something that genuinely happens to an industry, they are involved in. The love triangle between Gale, Dewey, and the Gale actress was pretty dumb and felt undeserved, as we have not seen Gale and Dewey actually together in any of the films.\\r\\n\\r\\nIn horror films, you can have a good movie with a terrible plot as long as the kills are great. Unfortunately, Scream 3 continues the trend of having boring kills with no imagination. There has been only one truly unique kill throughout the entire franchise, and the rest are unbloody stab kills. I understand the meta being about stabbing with a knife, as the in-film movie is called Stab, but please add some gore to it. There is nothing, no blood squirts or body horror, and it caused the entire movie to be boring.\\r\\n\\r\\nOur performances were exactly how I would describe Scream 2, with both Neve Campbell and Courtney Cox being the standouts and David Arquette being average at best. All of the new characters were pretty uninteresting, all of the actors in the film were annoying, and the movie producers felt generic.\\r\\n\\r\\nThe direction of this film felt pretty uninspired. I am not sure if Wes Craven was forced to make this movie by the studio, but nothing about it felt unique and creative. It felt like he was phoning it in for a paycheck.\\r\\n\\r\\nOverall, there were not a lot of redeeming qualities for this film, and it left me feeling unfulfilled as the final credits rolled. Hoping Scream IV has more in store for me than this lackluster film.\\r\\n\\r\\n**Score:** _45%_\\r\\n**Verdict:** _Poor_   \n",
       "31                                                                                                       **There should have been only one!**\\r\\n\\r\\nIf “Highlander 2” was a complete disgrace and “Highlander 3” somehow tried to give us some compensation, this movie makes it look worse and more worn out. However, a TV series had been made that had little or nothing to do with the original film. What this movie came to try to do is to bring together the best of both worlds, but it failed completely.\\r\\n\\r\\nThe problems start at the bottom, that is, in the miserably written script and without ideas that can truly be considered good or intelligent. At no time did I feel that the story of this film was interesting or captivating enough to justify the effort of seeing it. From the development it makes, we must assume that the action takes place after what we saw in the original film, which doesn't make much sense if we remember that this film ends in the victory of Connor, the last and only Immortal. The film has lots of plot holes and moments where logic and coherence take a vacation and disappear. The dialogues are poor, poorly finished and annoying. Historical flashbacks don't always work.\\r\\n\\r\\nThe cast counts, for the last time, with the honorable participation of Christopher Lambert, now a mature actor. So mature it sounds dangerously old for the role he plays. Despite this, the actor does what he can with what little he has. Adrian Paul also doesn't let us down and gives a good performance, considering the filthy and regrettable quality of the material written for this film. Bruce Payne sounds histrionic and unconvincing, but he does what he has to do. The rest of the actors don't really have anything really good worth mentioning in detail.\\r\\n\\r\\nVictim of a very low budget, the film appears for what it is: a very cheap and undercooked production, which tastes bad and looks even worse than it tastes. An excuse for an action movie with swords and frantic duels amid a series of abandoned or deserted industrial sites. The cinematography, sets and costumes are what we would expect to find, but the visual effects and CGI are poor, amateurish and really inexcusable in a 2000s full-length film. It's a disgraceful film.   \n",
       "51                                                                                                                                                                                                                                                                                                                                                                                                                                                                                                                                                                                                                                                                                                            _**A black detective in Gotham desperately wants to nail a snooty racist murderer**_ \\r\\n\\r\\nThe nephew of the original John Shaft is a detective in New York City (Samuel L. Jackson) where he tries to apprehend an arrogant racist killer (Christian Bale) by finding a key witness (Toni Collette) while dealing with a gang lord (Jeffrey Wright) and corrupt cops. Vanessa Williams is on hand as a helpful officer.\\r\\n\\r\\n“Shaft” (2000) is a ‘hip’ crime thriller that resurrects the franchise 27 years after the original trilogy from 1971-1973 that featured Richard Roundtree in the title role (he returns here as the aged uncle). The cast and filmmaking are fine; the problem is the lame story with which they’re shackled. \\r\\n\\r\\nThe key crime in the opening act is glaringly weak. Bale’s character is a snooty punk born with a silver spoon in his mouth, but I didn’t buy his rash, racist actions at the night club. It just didn’t ring true, especially since he seems to get along with black people just fine the rest of the movie. Likewise, Collette’s actions aren’t convincing as the doe-eyed bartender. Simply put, the scriptwriters tried too hard to concoct a racist whitey villain when subtly was in order.\\r\\n\\r\\nIf you can roll with that serious flaw, there are enough thrills to amuse, including Jackson as the bad axx protagonist and Wright’s entertaining drug lord. Plus it’s always good to see the charming Vanessa Williams. \\r\\n\\r\\nThe film runs 1 hour, 39 minutes, and was shot in various areas of New York City, as well as nearby Newark. \\r\\n\\r\\nGRADE: C-   \n",
       "\n",
       "    rating  \\\n",
       "6      3.0   \n",
       "7      2.0   \n",
       "20     4.0   \n",
       "31     1.0   \n",
       "51     4.0   \n",
       "\n",
       "                                                                                                                                                                                                                                                                                                                                                                                                                                                                                                                                                                                                                                                                                                                                                                                                                                                       tokens  \\\n",
       "6                                                                                                                                                                                                                                                                                                                                                                                                                             [underwhelmed, straight, bored, course, seeing, hunt, climb, mountain, harness, impressive, sure, liked, idea, villain, piece, angle, woefully, underdeveloped, setting, predominantly, australia, grab, attention, saying, cause, pretty, biased, comes, hear, tell, mission, impossible, ii, low, point, series, encouraging, worse, know, able, rogue, nation, final, rating:, ★, ½, boring, disappointing, avoid, possible]   \n",
       "7                                                                                                                                                                                                                                                                                                                                                                                                                                                                                                                                       [entertainign, mission, impossible, second, installment, turned, terrible, screenwriters, know, fill, 2, hrs, action, overuse, heroic, slow, motion, scenes, horrible, need, barf, bag, stand, slo, mo, seconds, 15, seconds, amazed, decide, push, m, movies, turned, better, hard, beat, lousy, piece, crap, movie]   \n",
       "20             [scream, 3, lackluster, screenplay, unimaginative, kills, leave, film, bore, watch, meta, narrative, trilogies, film, abysmal, plot, film, creates, lore, past, movies, seemingly, blue, muddling, continuity, shock, value, added, little, film, felt, forced, entire, plot, point, sidney, mother, hollywood, actress, pretty, lame, especially, added, plot, point, sexually, assaulted, movie, producer, personal, taste, absolutely, despise, films, add, plot, point, feels, incredibly, hypocritical, genuinely, happens, industry, involved, love, triangle, gale, dewey, gale, actress, pretty, dumb, felt, undeserved, seen, gale, dewey, actually, films, horror, films, good, movie, terrible, plot, long, kills, great, unfortunately, scream, 3, continues, trend, having, boring, kills, imagination, truly, unique, kill, ...]   \n",
       "31  [highlander, 2, complete, disgrace, highlander, 3, tried, compensation, movie, makes, look, worse, worn, tv, series, little, original, film, movie, came, try, bring, best, worlds, failed, completely, problems, start, miserably, written, script, ideas, truly, considered, good, intelligent, time, feel, story, film, interesting, captivating, justify, effort, seeing, development, makes, assume, action, takes, place, saw, original, film, sense, remember, film, ends, victory, connor, immortal, film, lots, plot, holes, moments, logic, coherence, vacation, disappear, dialogues, poor, poorly, finished, annoying, historical, flashbacks, work, cast, counts, time, honorable, participation, christopher, lambert, mature, actor, mature, sounds, dangerously, old, role, plays, despite, actor, little, adrian, paul, let, gives, ...]   \n",
       "51                                              [black, detective, gotham, desperately, wants, nail, snooty, racist, murderer, nephew, original, john, shaft, detective, new, york, city, samuel, l., jackson, tries, apprehend, arrogant, racist, killer, christian, bale, finding, key, witness, toni, collette, dealing, gang, lord, jeffrey, wright, corrupt, cops, vanessa, williams, hand, helpful, officer, shaft, 2000, hip, crime, thriller, resurrects, franchise, 27, years, original, trilogy, 1971, 1973, featured, richard, roundtree, title, role, returns, aged, uncle, cast, filmmaking, fine, problem, lame, story, shackled, key, crime, opening, act, glaringly, weak, bale, character, snooty, punk, born, silver, spoon, mouth, buy, rash, racist, actions, night, club, ring, true, especially, black, people, fine, rest, movie, ...]   \n",
       "\n",
       "                                                                                                                                                                                                                                                                                                                                                                                                                                                                                                                                                                                                                                                                                                                                                                                                                                                                                                                                                                                                                                                                                                                                                                                                                                                                                                                                                                 joined_tokens  \\\n",
       "6                                                                                                                                                                                                                                                                                                                                                                                                                                                                                                                                                                                                                                                                                                                                                                                                                                                                                                                                                                                                 underwhelmed straight bored course seeing hunt climb mountain harness impressive sure liked idea villain piece angle woefully underdeveloped setting predominantly australia grab attention saying cause pretty biased comes hear tell mission impossible ii low point series encouraging worse know able rogue nation final rating: ★ ½ boring disappointing avoid possible   \n",
       "7                                                                                                                                                                                                                                                                                                                                                                                                                                                                                                                                                                                                                                                                                                                                                                                                                                                                                                                                                                                                                                                                                                  entertainign mission impossible second installment turned terrible screenwriters know fill 2 hrs action overuse heroic slow motion scenes horrible need barf bag stand slo mo seconds 15 seconds amazed decide push m movies turned better hard beat lousy piece crap movie   \n",
       "20  scream 3 lackluster screenplay unimaginative kills leave film bore watch meta narrative trilogies film abysmal plot film creates lore past movies seemingly blue muddling continuity shock value added little film felt forced entire plot point sidney mother hollywood actress pretty lame especially added plot point sexually assaulted movie producer personal taste absolutely despise films add plot point feels incredibly hypocritical genuinely happens industry involved love triangle gale dewey gale actress pretty dumb felt undeserved seen gale dewey actually films horror films good movie terrible plot long kills great unfortunately scream 3 continues trend having boring kills imagination truly unique kill entire franchise rest unbloody stab kills understand meta stabbing knife film movie called stab add gore blood squirts body horror caused entire movie boring performances exactly describe scream 2 neve campbell courtney cox standouts david arquette average best new characters pretty uninteresting actors film annoying movie producers felt generic direction film felt pretty uninspired sure wes craven forced movie studio felt unique creative felt like phoning paycheck overall lot redeeming qualities film left feeling unfulfilled final credits rolled hoping scream iv store lackluster film score 45 verdict poor   \n",
       "31                                                                                                                                             highlander 2 complete disgrace highlander 3 tried compensation movie makes look worse worn tv series little original film movie came try bring best worlds failed completely problems start miserably written script ideas truly considered good intelligent time feel story film interesting captivating justify effort seeing development makes assume action takes place saw original film sense remember film ends victory connor immortal film lots plot holes moments logic coherence vacation disappear dialogues poor poorly finished annoying historical flashbacks work cast counts time honorable participation christopher lambert mature actor mature sounds dangerously old role plays despite actor little adrian paul let gives good performance considering filthy regrettable quality material written film bruce payne sounds histrionic unconvincing rest actors good worth mentioning detail victim low budget film appears cheap undercooked production tastes bad looks worse tastes excuse action movie swords frantic duels amid series abandoned deserted industrial sites cinematography sets costumes expect find visual effects cgi poor amateurish inexcusable 2000s length film disgraceful film   \n",
       "51                                                                                                                                                                                                                                                                                                                          black detective gotham desperately wants nail snooty racist murderer nephew original john shaft detective new york city samuel l. jackson tries apprehend arrogant racist killer christian bale finding key witness toni collette dealing gang lord jeffrey wright corrupt cops vanessa williams hand helpful officer shaft 2000 hip crime thriller resurrects franchise 27 years original trilogy 1971 1973 featured richard roundtree title role returns aged uncle cast filmmaking fine problem lame story shackled key crime opening act glaringly weak bale character snooty punk born silver spoon mouth buy rash racist actions night club ring true especially black people fine rest movie likewise collette actions convincing doe eyed bartender simply scriptwriters tried hard concoct racist whitey villain subtly order roll flaw thrills amuse including jackson bad axx protagonist wright entertaining drug lord plus good charming vanessa williams film runs 1 hour 39 minutes shot areas new york city nearby newark grade c-   \n",
       "\n",
       "                                                                                                                                                                                                                                                                                                                                                                                                                                                                                                                                                                                                                                                                                                                                                                                                                      lemmas  \\\n",
       "6                                                                                                                                                                                                                                                                                                                                                                                                            [underwhelme, straight, bore, course, see, hunt, climb, mountain, harness, impressive, sure, like, idea, villain, piece, angle, woefully, underdeveloped, set, predominantly, australia, grab, attention, say, cause, pretty, biased, come, hear, tell, mission, impossible, ii, low, point, series, encouraging, bad, know, able, rogue, nation, final, rating:, ★, ½, boring, disappointing, avoid, possible]   \n",
       "7                                                                                                                                                                                                                                                                                                                                                                                                                                                                                                                 [entertainign, mission, impossible, second, installment, turn, terrible, screenwriter, know, fill, 2, hrs, action, overuse, heroic, slow, motion, scene, horrible, need, barf, bag, stand, slo, mo, second, 15, second, amazed, decide, push, m, movie, turn, well, hard, beat, lousy, piece, crap, movie]   \n",
       "20      [scream, 3, lackluster, screenplay, unimaginative, kill, leave, film, bore, watch, meta, narrative, trilogy, film, abysmal, plot, film, create, lore, past, movie, seemingly, blue, muddle, continuity, shock, value, add, little, film, feel, force, entire, plot, point, sidney, mother, hollywood, actress, pretty, lame, especially, add, plot, point, sexually, assault, movie, producer, personal, taste, absolutely, despise, film, add, plot, point, feel, incredibly, hypocritical, genuinely, happen, industry, involve, love, triangle, gale, dewey, gale, actress, pretty, dumb, feel, undeserved, see, gale, dewey, actually, film, horror, film, good, movie, terrible, plot, long, kill, great, unfortunately, scream, 3, continue, trend, have, boring, kill, imagination, truly, unique, kill, ...]   \n",
       "31  [highlander, 2, complete, disgrace, highlander, 3, try, compensation, movie, make, look, bad, worn, tv, series, little, original, film, movie, come, try, bring, good, world, fail, completely, problem, start, miserably, write, script, idea, truly, consider, good, intelligent, time, feel, story, film, interesting, captivate, justify, effort, see, development, make, assume, action, take, place, see, original, film, sense, remember, film, end, victory, connor, immortal, film, lot, plot, hole, moment, logic, coherence, vacation, disappear, dialogue, poor, poorly, finish, annoying, historical, flashback, work, cast, count, time, honorable, participation, christopher, lambert, mature, actor, mature, sound, dangerously, old, role, play, despite, actor, little, adrian, paul, let, give, ...]   \n",
       "51                             [black, detective, gotham, desperately, want, nail, snooty, racist, murderer, nephew, original, john, shaft, detective, new, york, city, samuel, l., jackson, try, apprehend, arrogant, racist, killer, christian, bale, find, key, witness, toni, collette, deal, gang, lord, jeffrey, wright, corrupt, cop, vanessa, williams, hand, helpful, officer, shaft, 2000, hip, crime, thriller, resurrect, franchise, 27, year, original, trilogy, 1971, 1973, feature, richard, roundtree, title, role, return, aged, uncle, cast, filmmaking, fine, problem, lame, story, shackle, key, crime, opening, act, glaringly, weak, bale, character, snooty, punk, bear, silver, spoon, mouth, buy, rash, racist, action, night, club, ring, true, especially, black, people, fine, rest, movie, ...]   \n",
       "\n",
       "                                                                                                                                                                                                                                                                                                                                                                                                                                                                                                                                                                                                                                                                                                                                                                                                                                                                                                                                                                                                                                                                                                                                                                                                                                                                                                          joined_lemmas  \\\n",
       "6                                                                                                                                                                                                                                                                                                                                                                                                                                                                                                                                                                                                                                                                                                                                                                                                                                                                                                                                                          underwhelme straight bore course see hunt climb mountain harness impressive sure like idea villain piece angle woefully underdeveloped set predominantly australia grab attention say cause pretty biased come hear tell mission impossible ii low point series encouraging bad know able rogue nation final rating: ★ ½ boring disappointing avoid possible   \n",
       "7                                                                                                                                                                                                                                                                                                                                                                                                                                                                                                                                                                                                                                                                                                                                                                                                                                                                                                                                                                                                                                                      entertainign mission impossible second installment turn terrible screenwriter know fill 2 hrs action overuse heroic slow motion scene horrible need barf bag stand slo mo second 15 second amazed decide push m movie turn well hard beat lousy piece crap movie   \n",
       "20  scream 3 lackluster screenplay unimaginative kill leave film bore watch meta narrative trilogy film abysmal plot film create lore past movie seemingly blue muddle continuity shock value add little film feel force entire plot point sidney mother hollywood actress pretty lame especially add plot point sexually assault movie producer personal taste absolutely despise film add plot point feel incredibly hypocritical genuinely happen industry involve love triangle gale dewey gale actress pretty dumb feel undeserved see gale dewey actually film horror film good movie terrible plot long kill great unfortunately scream 3 continue trend have boring kill imagination truly unique kill entire franchise rest unbloody stab kill understand meta stab knife film movie call stab add gore blood squirt body horror cause entire movie boring performance exactly describe scream 2 neve campbell courtney cox standout david arquette average well new character pretty uninteresting actor film annoying movie producer feel generic direction film feel pretty uninspired sure wes craven force movie studio feel unique creative feel like phone paycheck overall lot redeem quality film leave feel unfulfilled final credit roll hope scream iv store lackluster film score 45 verdict poor   \n",
       "31                                                                                                                                               highlander 2 complete disgrace highlander 3 try compensation movie make look bad worn tv series little original film movie come try bring good world fail completely problem start miserably write script idea truly consider good intelligent time feel story film interesting captivate justify effort see development make assume action take place see original film sense remember film end victory connor immortal film lot plot hole moment logic coherence vacation disappear dialogue poor poorly finish annoying historical flashback work cast count time honorable participation christopher lambert mature actor mature sound dangerously old role play despite actor little adrian paul let give good performance consider filthy regrettable quality material write film bruce payne sound histrionic unconvincing rest actor good worth mention detail victim low budget film appear cheap undercooked production taste bad look bad taste excuse action movie sword frantic duel amid series abandon deserted industrial site cinematography set costume expect find visual effect cgi poor amateurish inexcusable 2000s length film disgraceful film   \n",
       "51                                                                                                                                                                                                                                                                                            black detective gotham desperately want nail snooty racist murderer nephew original john shaft detective new york city samuel l. jackson try apprehend arrogant racist killer christian bale find key witness toni collette deal gang lord jeffrey wright corrupt cop vanessa williams hand helpful officer shaft 2000 hip crime thriller resurrect franchise 27 year original trilogy 1971 1973 feature richard roundtree title role return aged uncle cast filmmaking fine problem lame story shackle key crime opening act glaringly weak bale character snooty punk bear silver spoon mouth buy rash racist action night club ring true especially black people fine rest movie likewise collette action convincing doe eyed bartender simply scriptwriter try hard concoct racist whitey villain subtly order roll flaw thrill amuse include jackson bad axx protagonist wright entertaining drug lord plus good charming vanessa williams film run 1 hour 39 minute shoot area new york city nearby newark grade c-   \n",
       "\n",
       "    high_low  sequence_length  \n",
       "6          0              118  \n",
       "7          0               94  \n",
       "20         0              380  \n",
       "31         0              368  \n",
       "51         0              261  "
      ]
     },
     "execution_count": 47,
     "metadata": {},
     "output_type": "execute_result"
    }
   ],
   "source": [
    "# length of each document - Using a lambda function\n",
    "\n",
    "df['sequence_length'] =df['review'].map( lambda x: len(x.split(\" \")))\n",
    "df.head()"
   ]
  },
  {
   "cell_type": "code",
   "execution_count": 48,
   "id": "d3a8f75b-cd9d-424c-9c94-678d457d4855",
   "metadata": {},
   "outputs": [],
   "source": [
    "# Define sequence length as a variable for future use\n",
    "SEQUENCE_LENGTH = max(df[\"sequence_length\"])"
   ]
  },
  {
   "cell_type": "code",
   "execution_count": 49,
   "id": "7a16e527-b8d8-4993-b585-0b15b6af52f7",
   "metadata": {},
   "outputs": [
    {
     "data": {
      "text/plain": [
       "25068"
      ]
     },
     "execution_count": 49,
     "metadata": {},
     "output_type": "execute_result"
    }
   ],
   "source": [
    "# Create text Vectorization layer\n",
    "sequence_vectorizer = tf.keras.layers.TextVectorization(\n",
    "    standardize=\"lower_and_strip_punctuation\",\n",
    "    output_mode=\"int\",\n",
    "    output_sequence_length=SEQUENCE_LENGTH\n",
    ")\n",
    "sequence_vectorizer.adapt(ds_texts)\n",
    "sequence_vectorizer.vocabulary_size()"
   ]
  },
  {
   "cell_type": "code",
   "execution_count": 50,
   "id": "c7c4d931-bd88-4d17-8242-e4c7b361b4b2",
   "metadata": {},
   "outputs": [
    {
     "name": "stdout",
     "output_type": "stream",
     "text": [
      "\n",
      "tf.keras.layers.TextVectorization(\n",
      "{   'batch_input_shape': (None,),\n",
      "    'dtype': 'string',\n",
      "    'encoding': 'utf-8',\n",
      "    'idf_weights': None,\n",
      "    'max_tokens': None,\n",
      "    'name': 'text_vectorization_1',\n",
      "    'ngrams': None,\n",
      "    'output_mode': 'int',\n",
      "    'output_sequence_length': 4017,\n",
      "    'pad_to_max_tokens': False,\n",
      "    'ragged': False,\n",
      "    'sparse': False,\n",
      "    'split': 'whitespace',\n",
      "    'standardize': 'lower_and_strip_punctuation',\n",
      "    'trainable': True,\n",
      "    'vocabulary': None,\n",
      "    'vocabulary_size': 25068}\n",
      ")\n"
     ]
    }
   ],
   "source": [
    "# Define vectorizer layer. Use the custom function to build and fit the vectorizer before using it in model\n",
    "sequence_vectorizer, vocab_lookup = fn.make_text_vectorization_layer(train_ds, output_mode='int', output_sequence_length = SEQUENCE_LENGTH)"
   ]
  },
  {
   "cell_type": "code",
   "execution_count": 51,
   "id": "4c41e93c-f6a8-42b2-98bd-76feb3e83038",
   "metadata": {},
   "outputs": [
    {
     "data": {
      "text/plain": [
       "25068"
      ]
     },
     "execution_count": 51,
     "metadata": {},
     "output_type": "execute_result"
    }
   ],
   "source": [
    "# Programmatically define size of vocab from vectorization layer\n",
    "VOCAB_SIZE = sequence_vectorizer.vocabulary_size()\n",
    "VOCAB_SIZE"
   ]
  },
  {
   "cell_type": "code",
   "execution_count": 52,
   "id": "0d7a90db-e20b-4899-8e3e-d6039f3f2e04",
   "metadata": {},
   "outputs": [
    {
     "data": {
      "text/plain": [
       "100"
      ]
     },
     "execution_count": 52,
     "metadata": {},
     "output_type": "execute_result"
    }
   ],
   "source": [
    "# Define output dimension\n",
    "EMBED_DIM = 100\n",
    "EMBED_DIM"
   ]
  },
  {
   "cell_type": "code",
   "execution_count": 53,
   "id": "49ff8898-4d30-4621-b248-1f1e1b08e7e2",
   "metadata": {},
   "outputs": [],
   "source": [
    "# Defining an embedding layer\n",
    "embedding_layer = layers.Embedding(input_dim=VOCAB_SIZE,\n",
    "                                  output_dim=EMBED_DIM, \n",
    "                                  input_length=SEQUENCE_LENGTH)"
   ]
  },
  {
   "cell_type": "code",
   "execution_count": 54,
   "id": "fcfff71d-5be3-4d9d-b206-231ab625eff2",
   "metadata": {},
   "outputs": [
    {
     "data": {
      "text/plain": [
       "array([0, 1], dtype=int64)"
      ]
     },
     "execution_count": 54,
     "metadata": {},
     "output_type": "execute_result"
    }
   ],
   "source": [
    "# Define classes variable\n",
    "classes = y.unique()\n",
    "classes"
   ]
  },
  {
   "cell_type": "code",
   "execution_count": 55,
   "id": "4b8ed321-284b-485d-af37-0fe4f0aef118",
   "metadata": {},
   "outputs": [],
   "source": [
    "# Fit the layer on the training texts\n",
    "model = sequence_vectorizer.adapt(ds_texts)"
   ]
  },
  {
   "cell_type": "code",
   "execution_count": 56,
   "id": "e2ad3255-6057-40f1-8052-a64d7244f209",
   "metadata": {},
   "outputs": [],
   "source": [
    "def build_gru_model_stack_hierarchy_pool(text_vectorization_layer):\n",
    "    \n",
    "    \n",
    "    MAX_TOKENS = text_vectorization_layer.vocabulary_size()\n",
    "        \n",
    "    model = tf.keras.Sequential([\n",
    "        text_vectorization_layer,\n",
    "        layers.Embedding(input_dim=VOCAB_SIZE,\n",
    "                                  output_dim=EMBED_DIM, \n",
    "                                  input_length=SEQUENCE_LENGTH)])\n",
    "\n",
    "    # Stack three GrU layers    \n",
    "    model.add(layers.GRU(128, return_sequences=True))\n",
    "    model.add(layers.Dropout(.5))\n",
    "    model.add(layers.GRU(64, return_sequences=True))\n",
    "    model.add(layers.Dropout(.5))         \n",
    "    # For the final GRU layer, use return_sequences = True for pooling layer\n",
    "    model.add(layers.GRU(32, return_sequences = True)) \n",
    "    model.add(layers.GlobalMaxPooling1D())\n",
    "    # Output layer\n",
    "    model.add(layers.Dense(len(classes), \n",
    "                              activation='softmax'))\n",
    "\n",
    "              \n",
    "    # Define optimizer\n",
    "    optimizer = optimizers.legacy.Adam()\n",
    "\n",
    "    # Compile\n",
    "    model.compile(optimizer=optimizer,  \n",
    "                  loss='sparse_categorical_crossentropy', metrics=['accuracy'])\n",
    "    model.summary()\n",
    "    return model\n",
    "\n"
   ]
  },
  {
   "cell_type": "code",
   "execution_count": 58,
   "id": "7fc6a957-5bb6-4d0a-8d79-5c42da2c3906",
   "metadata": {},
   "outputs": [],
   "source": [
    "def get_callbacks(patience=3, monitor='val_accuracy'):\n",
    "    early_stop = tf.keras.callbacks.EarlyStopping(patience=patience, monitor=monitor)\n",
    "    return [early_stop]\n",
    "\n"
   ]
  },
  {
   "cell_type": "code",
   "execution_count": 59,
   "id": "a2673986-65a2-4e27-9dc7-826a90287f66",
   "metadata": {},
   "outputs": [
    {
     "name": "stdout",
     "output_type": "stream",
     "text": [
      "Model: \"sequential_1\"\n",
      "_________________________________________________________________\n",
      " Layer (type)                Output Shape              Param #   \n",
      "=================================================================\n",
      " text_vectorization_1 (TextV  (None, 4017)             0         \n",
      " ectorization)                                                   \n",
      "                                                                 \n",
      " embedding_2 (Embedding)     (None, 4017, 100)         2506800   \n",
      "                                                                 \n",
      " gru_3 (GRU)                 (None, 4017, 128)         88320     \n",
      "                                                                 \n",
      " dropout_2 (Dropout)         (None, 4017, 128)         0         \n",
      "                                                                 \n",
      " gru_4 (GRU)                 (None, 4017, 64)          37248     \n",
      "                                                                 \n",
      " dropout_3 (Dropout)         (None, 4017, 64)          0         \n",
      "                                                                 \n",
      " gru_5 (GRU)                 (None, 4017, 32)          9408      \n",
      "                                                                 \n",
      " global_max_pooling1d_1 (Glo  (None, 32)               0         \n",
      " balMaxPooling1D)                                                \n",
      "                                                                 \n",
      " dense_1 (Dense)             (None, 2)                 66        \n",
      "                                                                 \n",
      "=================================================================\n",
      "Total params: 2,641,842\n",
      "Trainable params: 2,641,842\n",
      "Non-trainable params: 0\n",
      "_________________________________________________________________\n",
      "Epoch 1/30\n",
      "53/53 [==============================] - 393s 7s/step - loss: 0.6918 - accuracy: 0.5080 - val_loss: 0.6876 - val_accuracy: 0.4865\n",
      "Epoch 2/30\n",
      "53/53 [==============================] - 393s 7s/step - loss: 0.5910 - accuracy: 0.6781 - val_loss: 0.5285 - val_accuracy: 0.7267\n",
      "Epoch 3/30\n",
      "53/53 [==============================] - 393s 7s/step - loss: 0.3180 - accuracy: 0.8777 - val_loss: 0.5870 - val_accuracy: 0.7412\n",
      "Epoch 4/30\n",
      "53/53 [==============================] - 392s 7s/step - loss: 0.1867 - accuracy: 0.9415 - val_loss: 0.6312 - val_accuracy: 0.7474\n",
      "Epoch 5/30\n",
      "53/53 [==============================] - 388s 7s/step - loss: 0.1302 - accuracy: 0.9622 - val_loss: 0.6426 - val_accuracy: 0.7598\n",
      "Epoch 6/30\n",
      "53/53 [==============================] - 388s 7s/step - loss: 0.1127 - accuracy: 0.9652 - val_loss: 0.6425 - val_accuracy: 0.7391\n",
      "Epoch 7/30\n",
      "53/53 [==============================] - 392s 7s/step - loss: 0.0844 - accuracy: 0.9764 - val_loss: 0.7755 - val_accuracy: 0.7267\n",
      "Epoch 8/30\n",
      "53/53 [==============================] - 386s 7s/step - loss: 0.0681 - accuracy: 0.9817 - val_loss: 0.7840 - val_accuracy: 0.7474\n"
     ]
    },
    {
     "data": {
      "image/png": "[encoded data removed]",
      "text/plain": [
       "<Figure size 600x600 with 2 Axes>"
      ]
     },
     "metadata": {},
     "output_type": "display_data"
    },
    {
     "name": "stdout",
     "output_type": "stream",
     "text": [
      "\n",
      "================================================================================\n",
      "- Evaluating Network...\n",
      "================================================================================\n",
      "----------------------------------------------------------------------\n",
      " Classification Metrics: Test Data\n",
      "----------------------------------------------------------------------\n",
      "              precision    recall  f1-score   support\n",
      "\n",
      "           0       0.90      0.63      0.75       120\n",
      "           1       0.72      0.93      0.82       123\n",
      "\n",
      "    accuracy                           0.79       243\n",
      "   macro avg       0.81      0.78      0.78       243\n",
      "weighted avg       0.81      0.79      0.78       243\n",
      "\n"
     ]
    },
    {
     "data": {
      "image/png": "[encoded data removed]",
      "text/plain": [
       "<Figure size 600x400 with 2 Axes>"
      ]
     },
     "metadata": {},
     "output_type": "display_data"
    },
    {
     "name": "stdout",
     "output_type": "stream",
     "text": [
      "\n",
      "- Evaluating Test Data:\n",
      "8/8 [==============================] - 7s 922ms/step - loss: 0.7392 - accuracy: 0.7860\n",
      "{'loss': 0.7391692996025085, 'accuracy': 0.7860082387924194}\n"
     ]
    }
   ],
   "source": [
    "# Build model\n",
    "model = build_gru_model_stack_hierarchy_pool(sequence_vectorizer)\n",
    "\n",
    "EPOCHS = 30\n",
    "history = model.fit(\n",
    "    train_ds,\n",
    "    epochs=EPOCHS,\n",
    "    validation_data=val_ds,\n",
    "    callbacks=get_callbacks(),\n",
    ")\n",
    "results = evaluate_classification_network(\n",
    "    model, \n",
    "    X_test=test_ds, history=history\n",
    ");\n",
    "\n"
   ]
  },
  {
   "cell_type": "code",
   "execution_count": 62,
   "id": "0da727d7-e950-4ff8-a7ae-defc090a069d",
   "metadata": {},
   "outputs": [],
   "source": [
    "def build_hybrid_model_deep_pool(text_vectorization_layer):\n",
    "    \n",
    "    \n",
    "    MAX_TOKENS = text_vectorization_layer.vocabulary_size()\n",
    "        \n",
    "    model = tf.keras.Sequential([\n",
    "        text_vectorization_layer,\n",
    "        layers.Embedding(input_dim=VOCAB_SIZE,\n",
    "                                  output_dim=EMBED_DIM, \n",
    "                                  input_length=SEQUENCE_LENGTH)])\n",
    "\n",
    "    # Stack   \n",
    "    model.add(layers.GRU(128, return_sequences=True))\n",
    "    model.add(layers.Dropout(.5))     \n",
    "    # For the final layer, use return_sequences = True for pooling layer\n",
    "    model.add(layers.LSTM(128, return_sequences = True)) \n",
    "    model.add(layers.GlobalMaxPooling1D())\n",
    "    # Output layer\n",
    "    model.add(layers.Dense(len(classes), \n",
    "                              activation='softmax'))\n",
    "\n",
    "              \n",
    "    # Define optimizer\n",
    "    optimizer = optimizers.legacy.Adam()\n",
    "\n",
    "    # Compile\n",
    "    model.compile(optimizer=optimizer,  \n",
    "                  loss='sparse_categorical_crossentropy', metrics=['accuracy'])\n",
    "    model.summary()\n",
    "    return model\n",
    "\n"
   ]
  },
  {
   "cell_type": "code",
   "execution_count": null,
   "id": "6731c57b-6df2-4628-bef6-771d9ec77369",
   "metadata": {},
   "outputs": [
    {
     "name": "stdout",
     "output_type": "stream",
     "text": [
      "Model: \"sequential_3\"\n",
      "_________________________________________________________________\n",
      " Layer (type)                Output Shape              Param #   \n",
      "=================================================================\n",
      " text_vectorization_1 (TextV  (None, 4017)             0         \n",
      " ectorization)                                                   \n",
      "                                                                 \n",
      " embedding_4 (Embedding)     (None, 4017, 100)         2506800   \n",
      "                                                                 \n",
      " gru_7 (GRU)                 (None, 4017, 128)         88320     \n",
      "                                                                 \n",
      " dropout_5 (Dropout)         (None, 4017, 128)         0         \n",
      "                                                                 \n",
      " lstm_1 (LSTM)               (None, 4017, 128)         131584    \n",
      "                                                                 \n",
      " global_max_pooling1d_3 (Glo  (None, 128)              0         \n",
      " balMaxPooling1D)                                                \n",
      "                                                                 \n",
      " dense_3 (Dense)             (None, 2)                 258       \n",
      "                                                                 \n",
      "=================================================================\n",
      "Total params: 2,726,962\n",
      "Trainable params: 2,726,962\n",
      "Non-trainable params: 0\n",
      "_________________________________________________________________\n",
      "Epoch 1/30\n",
      "53/53 [==============================] - 510s 10s/step - loss: 0.6891 - accuracy: 0.5411 - val_loss: 0.6610 - val_accuracy: 0.6087\n",
      "Epoch 2/30\n",
      "53/53 [==============================] - 527s 10s/step - loss: 0.4082 - accuracy: 0.8169 - val_loss: 0.4019 - val_accuracy: 0.8468\n",
      "Epoch 3/30\n",
      "49/53 [==========================>...] - ETA: 40s - loss: 0.1565 - accuracy: 0.9585"
     ]
    }
   ],
   "source": [
    "# Build model\n",
    "model = build_hybrid_model_deep_pool(sequence_vectorizer)\n",
    "\n",
    "EPOCHS = 30\n",
    "history = model.fit(\n",
    "    train_ds,\n",
    "    epochs=EPOCHS,\n",
    "    validation_data=val_ds,\n",
    "    callbacks=get_callbacks(),\n",
    ")\n",
    "# Obtain the results\n",
    "results = fn.evaluate_classification_network(\n",
    "    lstm_model, X_train=train_ds, \n",
    "    X_test=test_ds, history=history\n",
    ");\n",
    "\n"
   ]
  },
  {
   "cell_type": "markdown",
   "id": "e61dbd43-ac51-4e09-97cc-bfb8c5b120e5",
   "metadata": {},
   "source": [
    "The stacked GRU RNN model was not better than my initial model. It was actually worse on all counts. Both of the RNN models also ran super slow which is unusual. I may need to tweak the models and make sure they are using all the cores available to them."
   ]
  }
 ],
 "metadata": {
  "kernelspec": {
   "display_name": "Python (dojo-env)",
   "language": "python",
   "name": "dojo-env"
  },
  "language_info": {
   "codemirror_mode": {
    "name": "ipython",
    "version": 3
   },
   "file_extension": ".py",
   "mimetype": "text/x-python",
   "name": "python",
   "nbconvert_exporter": "python",
   "pygments_lexer": "ipython3",
   "version": "3.10.10"
  }
 },
 "nbformat": 4,
 "nbformat_minor": 5
}
