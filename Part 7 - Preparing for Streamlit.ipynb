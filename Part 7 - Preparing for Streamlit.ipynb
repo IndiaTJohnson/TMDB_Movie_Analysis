{
 "cells": [
  {
   "cell_type": "markdown",
   "id": "6d8f5069-99b8-4f7e-a007-430a358e89aa",
   "metadata": {},
   "source": [
    "## Create Filepaths"
   ]
  },
  {
   "cell_type": "code",
   "execution_count": 40,
   "id": "f7e541c7-d4fa-4baf-af0a-b09e74452d4d",
   "metadata": {},
   "outputs": [
    {
     "name": "stdout",
     "output_type": "stream",
     "text": [
      "{'Data': {'ml': {'label_encoder': 'Data/label_encoder.joblib',\n",
      "                 'target_lookup': 'Data/target_lookup.joblib',\n",
      "                 'test': 'Data/test_data_ml.joblib',\n",
      "                 'train': 'Data/training_data_ml.joblib'},\n",
      "          'tf': {'test_tf': 'Data/test_ds.joblib',\n",
      "                 'train_tf': 'Data/train_ds.joblib'}},\n",
      " 'Models': {'grid': 'Models/gridsearch_89.joblib',\n",
      "            'ml': 'Models/Gridsearch_full.joblib',\n",
      "            'neural': 'Models/hybrid.joblib'}}\n"
     ]
    }
   ],
   "source": [
    "from pprint import pprint\n",
    "FPATHS = dict(\n",
    "\n",
    "    Data={\n",
    "        \"ml\":{\n",
    "            \"train\":\"Data/training_data_ml.joblib\",\n",
    "            \"test\":\"Data/test_data_ml.joblib\",\n",
    "            \"target_lookup\":\"Data/target_lookup.joblib\",\n",
    "            \"label_encoder\":\"Data/label_encoder.joblib\",\n",
    "         },\n",
    "        \"tf\":{\n",
    "            \"train_tf\":\"Data/train_ds.joblib\",\n",
    "            \"test_tf\":\"Data/test_ds.joblib\",\n",
    "        },\n",
    "    },\n",
    "\n",
    "    Models={\n",
    "        \"ml\":\"Models/Gridsearch_full.joblib\",\n",
    "        \"grid\":\"Models/gridsearch_89.joblib\",\n",
    "        \"neural\":\"Models/hybrid.joblib\",\n",
    "    }\n",
    ")\n",
    "pprint(FPATHS)\n"
   ]
  },
  {
   "cell_type": "markdown",
   "id": "f8be4b63-0d51-4a2e-9d52-51a433bd6271",
   "metadata": {},
   "source": [
    "## Imports"
   ]
  },
  {
   "cell_type": "code",
   "execution_count": 62,
   "id": "afb454fb-5bbe-492b-a1b1-26a70e2ee91a",
   "metadata": {},
   "outputs": [],
   "source": [
    "# Save the filepaths in a config folder\n",
    "import os, json\n",
    "import sys\n",
    "os.makedirs('config/', exist_ok=True)\n",
    "FPATHS_FILE = 'config/filepaths.json'\n",
    "with open(FPATHS_FILE, 'w') as f:\n",
    "    json.dump(FPATHS, f)\n",
    "\n"
   ]
  },
  {
   "cell_type": "code",
   "execution_count": 42,
   "id": "ddb040f4-c92a-4b02-a598-f149d89cadb1",
   "metadata": {},
   "outputs": [],
   "source": [
    "import pandas as pd\n",
    "import joblib\n",
    "import matplotlib.pyplot as plt\n",
    "import matplotlib as mpl\n",
    "import seaborn as sns\n",
    "import numpy as np\n",
    "from imblearn.under_sampling import RandomUnderSampler\n",
    "import spacy\n",
    "from sklearn.model_selection import train_test_split\n",
    "from sklearn.pipeline import Pipeline\n",
    "from sklearn.feature_extraction.text import CountVectorizer, TfidfVectorizer\n",
    "from sklearn.ensemble import RandomForestClassifier\n",
    "from sklearn.naive_bayes import MultinomialNB\n",
    "from sklearn import metrics\n",
    "from sklearn.metrics import ConfusionMatrixDisplay, classification_report\n",
    "import tensorflow as tf\n",
    "# Increase column width\n",
    "pd.set_option('display.max_colwidth', 250)\n",
    "import tensorflow as tf\n"
   ]
  },
  {
   "cell_type": "code",
   "execution_count": 43,
   "id": "3170c257-eab1-457d-a771-b00dc3059a82",
   "metadata": {},
   "outputs": [
    {
     "name": "stdout",
     "output_type": "stream",
     "text": [
      "The autoreload extension is already loaded. To reload it, use:\n",
      "  %reload_ext autoreload\n"
     ]
    }
   ],
   "source": [
    "%load_ext autoreload \n",
    "%autoreload 2\n"
   ]
  },
  {
   "cell_type": "code",
   "execution_count": 44,
   "id": "ec34aaf6-528e-4e16-b17a-256ae03a11c4",
   "metadata": {},
   "outputs": [],
   "source": [
    "# Using function from Creating a File Structure Lesson\n",
    "fn.create_directories_from_paths(FPATHS)\n"
   ]
  },
  {
   "cell_type": "markdown",
   "id": "ed9cf22e-5d06-4095-99be-f4cdcc952104",
   "metadata": {},
   "source": [
    "## Save Training and Test Data"
   ]
  },
  {
   "cell_type": "code",
   "execution_count": 15,
   "id": "c20314a7-7da8-4c90-ad66-8591c47a4f02",
   "metadata": {},
   "outputs": [
    {
     "data": {
      "text/html": [
       "<div>\n",
       "<style scoped>\n",
       "    .dataframe tbody tr th:only-of-type {\n",
       "        vertical-align: middle;\n",
       "    }\n",
       "\n",
       "    .dataframe tbody tr th {\n",
       "        vertical-align: top;\n",
       "    }\n",
       "\n",
       "    .dataframe thead th {\n",
       "        text-align: right;\n",
       "    }\n",
       "</style>\n",
       "<table border=\"1\" class=\"dataframe\">\n",
       "  <thead>\n",
       "    <tr style=\"text-align: right;\">\n",
       "      <th></th>\n",
       "      <th>review_id</th>\n",
       "      <th>movie_id</th>\n",
       "      <th>imdb_id</th>\n",
       "      <th>original_title</th>\n",
       "      <th>review</th>\n",
       "      <th>rating</th>\n",
       "      <th>tokens</th>\n",
       "      <th>joined_tokens</th>\n",
       "      <th>lemmas</th>\n",
       "      <th>joined_lemmas</th>\n",
       "    </tr>\n",
       "  </thead>\n",
       "  <tbody>\n",
       "    <tr>\n",
       "      <th>6</th>\n",
       "      <td>57b2d23dc3a36837d7000b14</td>\n",
       "      <td>955</td>\n",
       "      <td>tt0120755</td>\n",
       "      <td>Mission: Impossible II</td>\n",
       "      <td>The first underwhelmed me, but this one straight-up bored me. Again, of course seeing Hunt climb a mountain without a harness is impressive sure. And I even quite liked the idea behind the villain of the piece (though even that angle was woefully...</td>\n",
       "      <td>3.0</td>\n",
       "      <td>[underwhelmed, straight, bored, course, seeing, hunt, climb, mountain, harness, impressive, sure, liked, idea, villain, piece, angle, woefully, underdeveloped, setting, predominantly, australia, grab, attention, saying, cause, pretty, biased, com...</td>\n",
       "      <td>underwhelmed straight bored course seeing hunt climb mountain harness impressive sure liked idea villain piece angle woefully underdeveloped setting predominantly australia grab attention saying cause pretty biased comes hear tell mission impossi...</td>\n",
       "      <td>[underwhelme, straight, bore, course, see, hunt, climb, mountain, harness, impressive, sure, like, idea, villain, piece, angle, woefully, underdeveloped, set, predominantly, australia, grab, attention, say, cause, pretty, biased, come, hear, tell...</td>\n",
       "      <td>underwhelme straight bore course see hunt climb mountain harness impressive sure like idea villain piece angle woefully underdeveloped set predominantly australia grab attention say cause pretty biased come hear tell mission impossible ii low poi...</td>\n",
       "    </tr>\n",
       "    <tr>\n",
       "      <th>7</th>\n",
       "      <td>5e9120963679a10018375490</td>\n",
       "      <td>955</td>\n",
       "      <td>tt0120755</td>\n",
       "      <td>Mission: Impossible II</td>\n",
       "      <td>After quite entertainign Mission Impossible I the second installment turned out ... terrible. As if the screenwriters didn't know how to fill the 2 hrs with action the overuse of heroic slow motion scenes is horrible. You almost might need a barf...</td>\n",
       "      <td>2.0</td>\n",
       "      <td>[entertainign, mission, impossible, second, installment, turned, terrible, screenwriters, know, fill, 2, hrs, action, overuse, heroic, slow, motion, scenes, horrible, need, barf, bag, stand, slo, mo, seconds, 15, seconds, amazed, decide, push, m,...</td>\n",
       "      <td>entertainign mission impossible second installment turned terrible screenwriters know fill 2 hrs action overuse heroic slow motion scenes horrible need barf bag stand slo mo seconds 15 seconds amazed decide push m movies turned better hard beat l...</td>\n",
       "      <td>[entertainign, mission, impossible, second, installment, turn, terrible, screenwriter, know, fill, 2, hrs, action, overuse, heroic, slow, motion, scene, horrible, need, barf, bag, stand, slo, mo, second, 15, second, amazed, decide, push, m, movie...</td>\n",
       "      <td>entertainign mission impossible second installment turn terrible screenwriter know fill 2 hrs action overuse heroic slow motion scene horrible need barf bag stand slo mo second 15 second amazed decide push m movie turn well hard beat lousy piece ...</td>\n",
       "    </tr>\n",
       "    <tr>\n",
       "      <th>20</th>\n",
       "      <td>6409202f0e441900e887a17b</td>\n",
       "      <td>4234</td>\n",
       "      <td>tt0134084</td>\n",
       "      <td>Scream 3</td>\n",
       "      <td>**_Scream 3’s_ lackluster screenplay and unimaginative kills leave a film that is a bore to watch.**\\r\\n\\r\\nThe meta-narrative of trilogies throughout the film does not make up for how abysmal the plot was. This film creates so much lore for the ...</td>\n",
       "      <td>4.0</td>\n",
       "      <td>[scream, 3, lackluster, screenplay, unimaginative, kills, leave, film, bore, watch, meta, narrative, trilogies, film, abysmal, plot, film, creates, lore, past, movies, seemingly, blue, muddling, continuity, shock, value, added, little, film, felt...</td>\n",
       "      <td>scream 3 lackluster screenplay unimaginative kills leave film bore watch meta narrative trilogies film abysmal plot film creates lore past movies seemingly blue muddling continuity shock value added little film felt forced entire plot point sidne...</td>\n",
       "      <td>[scream, 3, lackluster, screenplay, unimaginative, kill, leave, film, bore, watch, meta, narrative, trilogy, film, abysmal, plot, film, create, lore, past, movie, seemingly, blue, muddle, continuity, shock, value, add, little, film, feel, force, ...</td>\n",
       "      <td>scream 3 lackluster screenplay unimaginative kill leave film bore watch meta narrative trilogy film abysmal plot film create lore past movie seemingly blue muddle continuity shock value add little film feel force entire plot point sidney mother h...</td>\n",
       "    </tr>\n",
       "    <tr>\n",
       "      <th>31</th>\n",
       "      <td>63578ba8c8a2d4008a00ff77</td>\n",
       "      <td>12211</td>\n",
       "      <td>tt0144964</td>\n",
       "      <td>Highlander: Endgame</td>\n",
       "      <td>**There should have been only one!**\\r\\n\\r\\nIf “Highlander 2” was a complete disgrace and “Highlander 3” somehow tried to give us some compensation, this movie makes it look worse and more worn out. However, a TV series had been made that had lit...</td>\n",
       "      <td>1.0</td>\n",
       "      <td>[highlander, 2, complete, disgrace, highlander, 3, tried, compensation, movie, makes, look, worse, worn, tv, series, little, original, film, movie, came, try, bring, best, worlds, failed, completely, problems, start, miserably, written, script, i...</td>\n",
       "      <td>highlander 2 complete disgrace highlander 3 tried compensation movie makes look worse worn tv series little original film movie came try bring best worlds failed completely problems start miserably written script ideas truly considered good intel...</td>\n",
       "      <td>[highlander, 2, complete, disgrace, highlander, 3, try, compensation, movie, make, look, bad, worn, tv, series, little, original, film, movie, come, try, bring, good, world, fail, completely, problem, start, miserably, write, script, idea, truly,...</td>\n",
       "      <td>highlander 2 complete disgrace highlander 3 try compensation movie make look bad worn tv series little original film movie come try bring good world fail completely problem start miserably write script idea truly consider good intelligent time fe...</td>\n",
       "    </tr>\n",
       "    <tr>\n",
       "      <th>51</th>\n",
       "      <td>6110271465e0a2002683d2b6</td>\n",
       "      <td>479</td>\n",
       "      <td>tt0162650</td>\n",
       "      <td>Shaft</td>\n",
       "      <td>_**A black detective in Gotham desperately wants to nail a snooty racist murderer**_ \\r\\n\\r\\nThe nephew of the original John Shaft is a detective in New York City (Samuel L. Jackson) where he tries to apprehend an arrogant racist killer (Christia...</td>\n",
       "      <td>4.0</td>\n",
       "      <td>[black, detective, gotham, desperately, wants, nail, snooty, racist, murderer, nephew, original, john, shaft, detective, new, york, city, samuel, l., jackson, tries, apprehend, arrogant, racist, killer, christian, bale, finding, key, witness, ton...</td>\n",
       "      <td>black detective gotham desperately wants nail snooty racist murderer nephew original john shaft detective new york city samuel l. jackson tries apprehend arrogant racist killer christian bale finding key witness toni collette dealing gang lord je...</td>\n",
       "      <td>[black, detective, gotham, desperately, want, nail, snooty, racist, murderer, nephew, original, john, shaft, detective, new, york, city, samuel, l., jackson, try, apprehend, arrogant, racist, killer, christian, bale, find, key, witness, toni, col...</td>\n",
       "      <td>black detective gotham desperately want nail snooty racist murderer nephew original john shaft detective new york city samuel l. jackson try apprehend arrogant racist killer christian bale find key witness toni collette deal gang lord jeffrey wri...</td>\n",
       "    </tr>\n",
       "  </tbody>\n",
       "</table>\n",
       "</div>"
      ],
      "text/plain": [
       "                   review_id  movie_id    imdb_id          original_title  \\\n",
       "6   57b2d23dc3a36837d7000b14       955  tt0120755  Mission: Impossible II   \n",
       "7   5e9120963679a10018375490       955  tt0120755  Mission: Impossible II   \n",
       "20  6409202f0e441900e887a17b      4234  tt0134084                Scream 3   \n",
       "31  63578ba8c8a2d4008a00ff77     12211  tt0144964     Highlander: Endgame   \n",
       "51  6110271465e0a2002683d2b6       479  tt0162650                   Shaft   \n",
       "\n",
       "                                                                                                                                                                                                                                                       review  \\\n",
       "6   The first underwhelmed me, but this one straight-up bored me. Again, of course seeing Hunt climb a mountain without a harness is impressive sure. And I even quite liked the idea behind the villain of the piece (though even that angle was woefully...   \n",
       "7   After quite entertainign Mission Impossible I the second installment turned out ... terrible. As if the screenwriters didn't know how to fill the 2 hrs with action the overuse of heroic slow motion scenes is horrible. You almost might need a barf...   \n",
       "20  **_Scream 3’s_ lackluster screenplay and unimaginative kills leave a film that is a bore to watch.**\\r\\n\\r\\nThe meta-narrative of trilogies throughout the film does not make up for how abysmal the plot was. This film creates so much lore for the ...   \n",
       "31  **There should have been only one!**\\r\\n\\r\\nIf “Highlander 2” was a complete disgrace and “Highlander 3” somehow tried to give us some compensation, this movie makes it look worse and more worn out. However, a TV series had been made that had lit...   \n",
       "51  _**A black detective in Gotham desperately wants to nail a snooty racist murderer**_ \\r\\n\\r\\nThe nephew of the original John Shaft is a detective in New York City (Samuel L. Jackson) where he tries to apprehend an arrogant racist killer (Christia...   \n",
       "\n",
       "    rating  \\\n",
       "6      3.0   \n",
       "7      2.0   \n",
       "20     4.0   \n",
       "31     1.0   \n",
       "51     4.0   \n",
       "\n",
       "                                                                                                                                                                                                                                                       tokens  \\\n",
       "6   [underwhelmed, straight, bored, course, seeing, hunt, climb, mountain, harness, impressive, sure, liked, idea, villain, piece, angle, woefully, underdeveloped, setting, predominantly, australia, grab, attention, saying, cause, pretty, biased, com...   \n",
       "7   [entertainign, mission, impossible, second, installment, turned, terrible, screenwriters, know, fill, 2, hrs, action, overuse, heroic, slow, motion, scenes, horrible, need, barf, bag, stand, slo, mo, seconds, 15, seconds, amazed, decide, push, m,...   \n",
       "20  [scream, 3, lackluster, screenplay, unimaginative, kills, leave, film, bore, watch, meta, narrative, trilogies, film, abysmal, plot, film, creates, lore, past, movies, seemingly, blue, muddling, continuity, shock, value, added, little, film, felt...   \n",
       "31  [highlander, 2, complete, disgrace, highlander, 3, tried, compensation, movie, makes, look, worse, worn, tv, series, little, original, film, movie, came, try, bring, best, worlds, failed, completely, problems, start, miserably, written, script, i...   \n",
       "51  [black, detective, gotham, desperately, wants, nail, snooty, racist, murderer, nephew, original, john, shaft, detective, new, york, city, samuel, l., jackson, tries, apprehend, arrogant, racist, killer, christian, bale, finding, key, witness, ton...   \n",
       "\n",
       "                                                                                                                                                                                                                                                joined_tokens  \\\n",
       "6   underwhelmed straight bored course seeing hunt climb mountain harness impressive sure liked idea villain piece angle woefully underdeveloped setting predominantly australia grab attention saying cause pretty biased comes hear tell mission impossi...   \n",
       "7   entertainign mission impossible second installment turned terrible screenwriters know fill 2 hrs action overuse heroic slow motion scenes horrible need barf bag stand slo mo seconds 15 seconds amazed decide push m movies turned better hard beat l...   \n",
       "20  scream 3 lackluster screenplay unimaginative kills leave film bore watch meta narrative trilogies film abysmal plot film creates lore past movies seemingly blue muddling continuity shock value added little film felt forced entire plot point sidne...   \n",
       "31  highlander 2 complete disgrace highlander 3 tried compensation movie makes look worse worn tv series little original film movie came try bring best worlds failed completely problems start miserably written script ideas truly considered good intel...   \n",
       "51  black detective gotham desperately wants nail snooty racist murderer nephew original john shaft detective new york city samuel l. jackson tries apprehend arrogant racist killer christian bale finding key witness toni collette dealing gang lord je...   \n",
       "\n",
       "                                                                                                                                                                                                                                                       lemmas  \\\n",
       "6   [underwhelme, straight, bore, course, see, hunt, climb, mountain, harness, impressive, sure, like, idea, villain, piece, angle, woefully, underdeveloped, set, predominantly, australia, grab, attention, say, cause, pretty, biased, come, hear, tell...   \n",
       "7   [entertainign, mission, impossible, second, installment, turn, terrible, screenwriter, know, fill, 2, hrs, action, overuse, heroic, slow, motion, scene, horrible, need, barf, bag, stand, slo, mo, second, 15, second, amazed, decide, push, m, movie...   \n",
       "20  [scream, 3, lackluster, screenplay, unimaginative, kill, leave, film, bore, watch, meta, narrative, trilogy, film, abysmal, plot, film, create, lore, past, movie, seemingly, blue, muddle, continuity, shock, value, add, little, film, feel, force, ...   \n",
       "31  [highlander, 2, complete, disgrace, highlander, 3, try, compensation, movie, make, look, bad, worn, tv, series, little, original, film, movie, come, try, bring, good, world, fail, completely, problem, start, miserably, write, script, idea, truly,...   \n",
       "51  [black, detective, gotham, desperately, want, nail, snooty, racist, murderer, nephew, original, john, shaft, detective, new, york, city, samuel, l., jackson, try, apprehend, arrogant, racist, killer, christian, bale, find, key, witness, toni, col...   \n",
       "\n",
       "                                                                                                                                                                                                                                                joined_lemmas  \n",
       "6   underwhelme straight bore course see hunt climb mountain harness impressive sure like idea villain piece angle woefully underdeveloped set predominantly australia grab attention say cause pretty biased come hear tell mission impossible ii low poi...  \n",
       "7   entertainign mission impossible second installment turn terrible screenwriter know fill 2 hrs action overuse heroic slow motion scene horrible need barf bag stand slo mo second 15 second amazed decide push m movie turn well hard beat lousy piece ...  \n",
       "20  scream 3 lackluster screenplay unimaginative kill leave film bore watch meta narrative trilogy film abysmal plot film create lore past movie seemingly blue muddle continuity shock value add little film feel force entire plot point sidney mother h...  \n",
       "31  highlander 2 complete disgrace highlander 3 try compensation movie make look bad worn tv series little original film movie come try bring good world fail completely problem start miserably write script idea truly consider good intelligent time fe...  \n",
       "51  black detective gotham desperately want nail snooty racist murderer nephew original john shaft detective new york city samuel l. jackson try apprehend arrogant racist killer christian bale find key witness toni collette deal gang lord jeffrey wri...  "
      ]
     },
     "execution_count": 15,
     "metadata": {},
     "output_type": "execute_result"
    }
   ],
   "source": [
    "df = joblib.load('Data-NLP/df_high_low_reviews-1')\n",
    "df.head()"
   ]
  },
  {
   "cell_type": "code",
   "execution_count": 16,
   "id": "6696e7bc-9b0e-4b9a-9b20-9b95cacb4f4a",
   "metadata": {},
   "outputs": [],
   "source": [
    "df_ml = df"
   ]
  },
  {
   "cell_type": "code",
   "execution_count": 18,
   "id": "b7e97bad-1334-430d-8128-79eef2b4d369",
   "metadata": {},
   "outputs": [],
   "source": [
    "def create_groups(x):\n",
    "    if x<=4.0:\n",
    "        return 0\n",
    "    elif x >=5.0:\n",
    "        return 1\n",
    "    else: \n",
    "        return None"
   ]
  },
  {
   "cell_type": "code",
   "execution_count": 19,
   "id": "0dd0c5c7-47de-4302-91f6-9ec03664c481",
   "metadata": {},
   "outputs": [
    {
     "data": {
      "text/plain": [
       "0    1224\n",
       "1    1195\n",
       "Name: high_low, dtype: int64"
      ]
     },
     "execution_count": 19,
     "metadata": {},
     "output_type": "execute_result"
    }
   ],
   "source": [
    "## Use the function to create a new \"rating\" column with groups\n",
    "df_ml['high_low'] = df_ml['rating'].map(create_groups)\n",
    "df_ml['high_low'].value_counts(dropna=False)"
   ]
  },
  {
   "cell_type": "code",
   "execution_count": 20,
   "id": "44788791-3612-4ae0-b319-645a39005fc8",
   "metadata": {},
   "outputs": [],
   "source": [
    "# Mapping numeric value with public-facing label\n",
    "rename_target_map = {0:'Bad Review', 1:\"Good Review\"}"
   ]
  },
  {
   "cell_type": "code",
   "execution_count": 21,
   "id": "4c55a115-7bed-43b6-a5a8-8542f0577090",
   "metadata": {},
   "outputs": [],
   "source": [
    "# Define X and y\n",
    "X = df_ml['review']\n",
    "y= df_ml[\"high_low\"].replace(rename_target_map)"
   ]
  },
  {
   "cell_type": "code",
   "execution_count": 22,
   "id": "3ec11ff1-32ba-4f61-bcc4-7ee595018bec",
   "metadata": {},
   "outputs": [
    {
     "data": {
      "text/plain": [
       "(1693, 726)"
      ]
     },
     "execution_count": 22,
     "metadata": {},
     "output_type": "execute_result"
    }
   ],
   "source": [
    "# Perform 70:30 train test split\n",
    "X_train, X_test, y_train, y_test = train_test_split(X, y, test_size=.3, random_state=42)\n",
    "len(X_train), len(X_test)"
   ]
  },
  {
   "cell_type": "code",
   "execution_count": 24,
   "id": "1e7c0def-215a-4de4-b5f7-2589397190b6",
   "metadata": {},
   "outputs": [
    {
     "data": {
      "text/plain": [
       "array(['Good Review', 'Bad Review'], dtype=object)"
      ]
     },
     "execution_count": 24,
     "metadata": {},
     "output_type": "execute_result"
    }
   ],
   "source": [
    "# Getting unique classes to convert \n",
    "class_names = y_train.unique()\n",
    "class_names\n"
   ]
  },
  {
   "cell_type": "code",
   "execution_count": 25,
   "id": "f42b5d2f-178f-4646-aa85-514160206fdb",
   "metadata": {},
   "outputs": [
    {
     "data": {
      "text/html": [
       "<style>#sk-container-id-1 {color: black;background-color: white;}#sk-container-id-1 pre{padding: 0;}#sk-container-id-1 div.sk-toggleable {background-color: white;}#sk-container-id-1 label.sk-toggleable__label {cursor: pointer;display: block;width: 100%;margin-bottom: 0;padding: 0.3em;box-sizing: border-box;text-align: center;}#sk-container-id-1 label.sk-toggleable__label-arrow:before {content: \"▸\";float: left;margin-right: 0.25em;color: #696969;}#sk-container-id-1 label.sk-toggleable__label-arrow:hover:before {color: black;}#sk-container-id-1 div.sk-estimator:hover label.sk-toggleable__label-arrow:before {color: black;}#sk-container-id-1 div.sk-toggleable__content {max-height: 0;max-width: 0;overflow: hidden;text-align: left;background-color: #f0f8ff;}#sk-container-id-1 div.sk-toggleable__content pre {margin: 0.2em;color: black;border-radius: 0.25em;background-color: #f0f8ff;}#sk-container-id-1 input.sk-toggleable__control:checked~div.sk-toggleable__content {max-height: 200px;max-width: 100%;overflow: auto;}#sk-container-id-1 input.sk-toggleable__control:checked~label.sk-toggleable__label-arrow:before {content: \"▾\";}#sk-container-id-1 div.sk-estimator input.sk-toggleable__control:checked~label.sk-toggleable__label {background-color: #d4ebff;}#sk-container-id-1 div.sk-label input.sk-toggleable__control:checked~label.sk-toggleable__label {background-color: #d4ebff;}#sk-container-id-1 input.sk-hidden--visually {border: 0;clip: rect(1px 1px 1px 1px);clip: rect(1px, 1px, 1px, 1px);height: 1px;margin: -1px;overflow: hidden;padding: 0;position: absolute;width: 1px;}#sk-container-id-1 div.sk-estimator {font-family: monospace;background-color: #f0f8ff;border: 1px dotted black;border-radius: 0.25em;box-sizing: border-box;margin-bottom: 0.5em;}#sk-container-id-1 div.sk-estimator:hover {background-color: #d4ebff;}#sk-container-id-1 div.sk-parallel-item::after {content: \"\";width: 100%;border-bottom: 1px solid gray;flex-grow: 1;}#sk-container-id-1 div.sk-label:hover label.sk-toggleable__label {background-color: #d4ebff;}#sk-container-id-1 div.sk-serial::before {content: \"\";position: absolute;border-left: 1px solid gray;box-sizing: border-box;top: 0;bottom: 0;left: 50%;z-index: 0;}#sk-container-id-1 div.sk-serial {display: flex;flex-direction: column;align-items: center;background-color: white;padding-right: 0.2em;padding-left: 0.2em;position: relative;}#sk-container-id-1 div.sk-item {position: relative;z-index: 1;}#sk-container-id-1 div.sk-parallel {display: flex;align-items: stretch;justify-content: center;background-color: white;position: relative;}#sk-container-id-1 div.sk-item::before, #sk-container-id-1 div.sk-parallel-item::before {content: \"\";position: absolute;border-left: 1px solid gray;box-sizing: border-box;top: 0;bottom: 0;left: 50%;z-index: -1;}#sk-container-id-1 div.sk-parallel-item {display: flex;flex-direction: column;z-index: 1;position: relative;background-color: white;}#sk-container-id-1 div.sk-parallel-item:first-child::after {align-self: flex-end;width: 50%;}#sk-container-id-1 div.sk-parallel-item:last-child::after {align-self: flex-start;width: 50%;}#sk-container-id-1 div.sk-parallel-item:only-child::after {width: 0;}#sk-container-id-1 div.sk-dashed-wrapped {border: 1px dashed gray;margin: 0 0.4em 0.5em 0.4em;box-sizing: border-box;padding-bottom: 0.4em;background-color: white;}#sk-container-id-1 div.sk-label label {font-family: monospace;font-weight: bold;display: inline-block;line-height: 1.2em;}#sk-container-id-1 div.sk-label-container {text-align: center;}#sk-container-id-1 div.sk-container {/* jupyter's `normalize.less` sets `[hidden] { display: none; }` but bootstrap.min.css set `[hidden] { display: none !important; }` so we also need the `!important` here to be able to override the default hidden behavior on the sphinx rendered scikit-learn.org. See: https://github.com/scikit-learn/scikit-learn/issues/21755 */display: inline-block !important;position: relative;}#sk-container-id-1 div.sk-text-repr-fallback {display: none;}</style><div id=\"sk-container-id-1\" class=\"sk-top-container\"><div class=\"sk-text-repr-fallback\"><pre>LabelEncoder()</pre><b>In a Jupyter environment, please rerun this cell to show the HTML representation or trust the notebook. <br />On GitHub, the HTML representation is unable to render, please try loading this page with nbviewer.org.</b></div><div class=\"sk-container\" hidden><div class=\"sk-item\"><div class=\"sk-estimator sk-toggleable\"><input class=\"sk-toggleable__control sk-hidden--visually\" id=\"sk-estimator-id-1\" type=\"checkbox\" checked><label for=\"sk-estimator-id-1\" class=\"sk-toggleable__label sk-toggleable__label-arrow\">LabelEncoder</label><div class=\"sk-toggleable__content\"><pre>LabelEncoder()</pre></div></div></div></div></div>"
      ],
      "text/plain": [
       "LabelEncoder()"
      ]
     },
     "execution_count": 25,
     "metadata": {},
     "output_type": "execute_result"
    }
   ],
   "source": [
    "from sklearn.preprocessing import LabelEncoder\n",
    "# Fit the label encoder on unique class names\n",
    "encoder = LabelEncoder()\n",
    "encoder.fit(class_names)"
   ]
  },
  {
   "cell_type": "code",
   "execution_count": 27,
   "id": "7715db76-d1fc-46a7-9dde-76de0a44e7e3",
   "metadata": {},
   "outputs": [
    {
     "data": {
      "text/plain": [
       "array([1, 0, 0, 0, 1, 1, 0, 0, 0, 0])"
      ]
     },
     "execution_count": 27,
     "metadata": {},
     "output_type": "execute_result"
    }
   ],
   "source": [
    "# Transform the y_train_str and y_test_str with encoder\n",
    "y_train = encoder.transform(y_train)\n",
    "y_test = encoder.transform(y_test)\n",
    "y_train[:10]\n"
   ]
  },
  {
   "cell_type": "code",
   "execution_count": 30,
   "id": "4f56ba95-c10c-4e13-8e7f-732391b296e2",
   "metadata": {},
   "outputs": [
    {
     "data": {
      "text/plain": [
       "array(['Bad Review', 'Good Review'], dtype=object)"
      ]
     },
     "execution_count": 30,
     "metadata": {},
     "output_type": "execute_result"
    }
   ],
   "source": [
    "# Extract the class names from the encoder\n",
    "classes = encoder.classes_\n",
    "classes\n"
   ]
  },
  {
   "cell_type": "code",
   "execution_count": 31,
   "id": "a0f62614-390d-4d76-ac1c-75fc59e37722",
   "metadata": {},
   "outputs": [
    {
     "data": {
      "text/plain": [
       "array([0, 1])"
      ]
     },
     "execution_count": 31,
     "metadata": {},
     "output_type": "execute_result"
    }
   ],
   "source": [
    "# Get the encoded values for each both classes\n",
    "class_codes = encoder.transform(classes)\n",
    "class_codes\n"
   ]
  },
  {
   "cell_type": "code",
   "execution_count": 32,
   "id": "926c8894-5aef-4fcc-8dd0-415dd88063b0",
   "metadata": {},
   "outputs": [
    {
     "data": {
      "text/plain": [
       "{0: 'Bad Review', 1: 'Good Review'}"
      ]
     },
     "execution_count": 32,
     "metadata": {},
     "output_type": "execute_result"
    }
   ],
   "source": [
    "# Making lookup dictionary to find the encoded label's original name\n",
    "target_lookup = dict(zip(class_codes,classes ))\n",
    "target_lookup\n"
   ]
  },
  {
   "cell_type": "code",
   "execution_count": 37,
   "id": "80e305b1-b468-4d42-a4ee-686babbd370d",
   "metadata": {},
   "outputs": [
    {
     "data": {
      "text/plain": [
       "['Data/test_data_ml.joblib']"
      ]
     },
     "execution_count": 37,
     "metadata": {},
     "output_type": "execute_result"
    }
   ],
   "source": [
    "\n",
    "fpath_train  = FPATHS['Data']['ml']['train'] # Save training data\n",
    "joblib.dump([X_train, y_train], fpath_train)\n",
    "\n",
    "\n",
    "fpath_test = FPATHS['Data']['ml']['test'] # Save testing data\n",
    "joblib.dump([X_test, y_test], fpath_test)\n"
   ]
  },
  {
   "cell_type": "code",
   "execution_count": 39,
   "id": "3021bf61-f154-486c-a730-d75005c11db6",
   "metadata": {},
   "outputs": [
    {
     "data": {
      "text/plain": [
       "['Data/target_lookup.joblib']"
      ]
     },
     "execution_count": 39,
     "metadata": {},
     "output_type": "execute_result"
    }
   ],
   "source": [
    "\n",
    "fpath_encoder = FPATHS['Data']['ml']['label_encoder'] # Save encoder\n",
    "joblib.dump(encoder,fpath_encoder)\n",
    "\n",
    "\n",
    "fpath_lookup = FPATHS['Data']['ml']['target_lookup'] # Save dictionary\n",
    "joblib.dump(target_lookup,fpath_lookup )\n"
   ]
  },
  {
   "cell_type": "markdown",
   "id": "63545108-9a8a-47a9-9db4-a50b8e17b530",
   "metadata": {},
   "source": [
    "## Deep NLP - Tensorflow"
   ]
  },
  {
   "cell_type": "code",
   "execution_count": 46,
   "id": "13086f59-3122-423c-b8b4-02b038b9b391",
   "metadata": {},
   "outputs": [
    {
     "data": {
      "text/plain": [
       "(4788    I saw this movie last year when it came out. I thought it was very cool and a nice take on the superhero origin story, along with \"young black man makes it out of the ghetto\" story.  Not very believable towards the end, but the acting and the rul...\n",
       " 7735    I was expecting more from this movie, but it turned out to be a big disappointment.\\r\\n\\r\\nFirst of all Vikings in this movie were represented more like an animals, acting like a rabid animals rather than humans and Vikings we have seen in popula...\n",
       " 3548                                                                                                                                                                                            Christian propaganda trash. An embarrassment to the word 'movie'.\n",
       " 7663    Where has the \"magic\" gone? Disney muddles the mix once again and ruins a childhood favorite by removing the accomplished Buzz frontman Tim Allen for Chris Evans? I was so wanting to see the quick quips and humor a comedian such as Allen has alwa...\n",
       " 6600    Despite hearing about this from day dot, I thankfully managed to avoid knowing anything about this other than it's title, director and subsequent success. Boy am I glad, because it's quite the ride!\\r\\n\\r\\nNo doubt about it, <em>'Parasite'</em> i...\n",
       " Name: review, dtype: object,\n",
       " array([1, 0, 0, 0, 1]))"
      ]
     },
     "execution_count": 46,
     "metadata": {},
     "output_type": "execute_result"
    }
   ],
   "source": [
    "# load training data using dictionary\n",
    "[X_train, y_train] = joblib.load(FPATHS['Data']['ml']['train'])\n",
    "[X_test, y_test]  = joblib.load(FPATHS['Data']['ml']['test'])\n",
    "X_train[:5],y_train[:5]"
   ]
  },
  {
   "cell_type": "code",
   "execution_count": 47,
   "id": "666ddd1e-a894-4b71-93b9-fddde46ec957",
   "metadata": {},
   "outputs": [],
   "source": [
    "# Make a dataset object from train data\n",
    "train_tf = tf.data.Dataset.from_tensor_slices((X_train, y_train))\n",
    "# Make a dataset object from test data\n",
    "test_tf = tf.data.Dataset.from_tensor_slices((X_test, y_test))\n"
   ]
  },
  {
   "cell_type": "code",
   "execution_count": 48,
   "id": "0c5a90f5-b390-4f90-ad55-bb59a1b495bd",
   "metadata": {},
   "outputs": [],
   "source": [
    "# Shuffle dataset\n",
    "train_tf = train_tf.shuffle(buffer_size=len(train_tf),reshuffle_each_iteration=False)\n"
   ]
  },
  {
   "cell_type": "code",
   "execution_count": 50,
   "id": "c9a8c631-3762-4628-91df-617891fa09a0",
   "metadata": {},
   "outputs": [
    {
     "name": "stdout",
     "output_type": "stream",
     "text": [
      "    - train:\t1269 samples \t(40 batches)\n",
      "    - val:  \t423 samples \t(14 batches)\n"
     ]
    }
   ],
   "source": [
    "# Set the ratio of the train, validation, test split\n",
    "split_train = .75\n",
    "split_val =  .25\n",
    "# Calculate the number of samples for training and validation data \n",
    "n_train_samples =  int(len(train_tf) * split_train)\n",
    "n_val_samples = int(len(train_tf) * split_val)\n",
    "# Set the batch size\n",
    "BATCH_SIZE =32\n",
    "import math\n",
    "# math.ceil will round up\n",
    "# How many batches? \n",
    "n_train_batches = math.ceil(n_train_samples/BATCH_SIZE)\n",
    "n_val_batches = math.ceil(n_val_samples/BATCH_SIZE)\n",
    "print(f\"    - train:\\t{n_train_samples} samples \\t({n_train_batches} batches)\")\n",
    "print(f\"    - val:  \\t{n_val_samples} samples \\t({n_val_batches} batches)\")\n"
   ]
  },
  {
   "cell_type": "code",
   "execution_count": 51,
   "id": "9d343b62-c981-45cf-b9c6-514793e5bffe",
   "metadata": {},
   "outputs": [
    {
     "name": "stdout",
     "output_type": "stream",
     "text": [
      " There are 40 training batches.\n",
      " There are 14 validation batches.\n"
     ]
    }
   ],
   "source": [
    "# Use take and skip to define each set\n",
    "train_ds = train_tf.take(n_train_samples).batch(batch_size=BATCH_SIZE)\n",
    "# Skip over the training batches and take the validation batches\n",
    "val_ds = train_tf.skip(n_train_samples).take(n_val_samples).batch(batch_size=BATCH_SIZE)\n",
    "# Confirm the number of batches in each\n",
    "print (f' There are {len(train_ds)} training batches.')\n",
    "print (f' There are {len(val_ds)} validation batches.')"
   ]
  },
  {
   "cell_type": "code",
   "execution_count": 52,
   "id": "348c4fdd-8c30-45c9-8eaa-a2968c1e6373",
   "metadata": {},
   "outputs": [
    {
     "data": {
      "text/plain": [
       "726"
      ]
     },
     "execution_count": 52,
     "metadata": {},
     "output_type": "execute_result"
    }
   ],
   "source": [
    "# How many samples in the test data\n",
    "n_test_samples = len(test_tf)\n",
    "n_test_samples\n"
   ]
  },
  {
   "cell_type": "code",
   "execution_count": 53,
   "id": "a7cfaa75-c390-4c2d-b28a-6b067d789c18",
   "metadata": {},
   "outputs": [
    {
     "name": "stdout",
     "output_type": "stream",
     "text": [
      " There are 23 testing batches.\n"
     ]
    }
   ],
   "source": [
    "# Put the test data into batches also\n",
    "test_ds = test_tf.batch(batch_size = BATCH_SIZE)\n",
    "# How many batches\n",
    "print (f' There are {len(test_ds)} testing batches.')"
   ]
  },
  {
   "cell_type": "code",
   "execution_count": 55,
   "id": "1a92f326-cba7-49d9-a214-faf0ff08c185",
   "metadata": {},
   "outputs": [],
   "source": [
    "# Save training dataset object\n",
    "train_ds_fpath = FPATHS['Data']['tf']['train_tf']\n",
    "tf.data.Dataset.save(train_ds, train_ds_fpath)\n",
    "# Save testing dataset object\n",
    "test_ds_fpath = FPATHS['Data']['tf']['test_tf']\n",
    "tf.data.Dataset.save(test_ds, test_ds_fpath)\n"
   ]
  },
  {
   "cell_type": "code",
   "execution_count": 57,
   "id": "6c5e4642-b88e-4e88-9d42-8c33d763110d",
   "metadata": {},
   "outputs": [
    {
     "data": {
      "text/plain": [
       "array(['Bad Review', 'Good Review'], dtype=object)"
      ]
     },
     "execution_count": 57,
     "metadata": {},
     "output_type": "execute_result"
    }
   ],
   "source": [
    "# Define classes\n",
    "# classes = np.unique(example_y)\n",
    "encoder = joblib.load(FPATHS['Data']['ml']['label_encoder'])\n",
    "classes = encoder.classes_\n",
    "classes\n",
    "\n"
   ]
  },
  {
   "cell_type": "code",
   "execution_count": null,
   "id": "71e5e789-7ae4-4486-8567-7630203e95bb",
   "metadata": {},
   "outputs": [],
   "source": []
  },
  {
   "cell_type": "code",
   "execution_count": 61,
   "id": "2bd5da3f-e5fa-4578-84a3-730d828c6c28",
   "metadata": {},
   "outputs": [
    {
     "data": {
      "text/plain": [
       "'Models/gridsearch_89.joblib'"
      ]
     },
     "execution_count": 61,
     "metadata": {},
     "output_type": "execute_result"
    }
   ],
   "source": [
    "FPATHS['Models']['grid']"
   ]
  },
  {
   "cell_type": "code",
   "execution_count": null,
   "id": "6993a272-454e-4013-9e29-bc4629234b2d",
   "metadata": {},
   "outputs": [],
   "source": []
  },
  {
   "cell_type": "code",
   "execution_count": null,
   "id": "4dcd59ff-f175-4c7e-8041-b1244a4ff373",
   "metadata": {},
   "outputs": [],
   "source": []
  },
  {
   "cell_type": "code",
   "execution_count": null,
   "id": "425d6466-0d2f-47e3-a94c-016bb0fdccc5",
   "metadata": {},
   "outputs": [],
   "source": []
  },
  {
   "cell_type": "code",
   "execution_count": null,
   "id": "eb98933f-4be6-409c-b6e2-b90035c2f193",
   "metadata": {},
   "outputs": [],
   "source": []
  },
  {
   "cell_type": "code",
   "execution_count": null,
   "id": "299fedb9-ee2f-4c4b-af8d-2d0b16364ea1",
   "metadata": {},
   "outputs": [],
   "source": []
  },
  {
   "cell_type": "code",
   "execution_count": null,
   "id": "a79b82ae-42b9-4223-aac7-e3ed404107f8",
   "metadata": {},
   "outputs": [],
   "source": []
  },
  {
   "cell_type": "code",
   "execution_count": null,
   "id": "71d33ba2-295f-4f6e-b27a-6aba1c9c304d",
   "metadata": {},
   "outputs": [],
   "source": []
  },
  {
   "cell_type": "code",
   "execution_count": null,
   "id": "3de8bbcc-cd31-4322-85e7-edcf25236dd0",
   "metadata": {},
   "outputs": [],
   "source": []
  },
  {
   "cell_type": "code",
   "execution_count": null,
   "id": "63aaafa6-8af5-4291-a186-0a2ae4bf644f",
   "metadata": {},
   "outputs": [],
   "source": []
  },
  {
   "cell_type": "code",
   "execution_count": null,
   "id": "751640f6-aaaa-44cd-83e9-d23156419ca5",
   "metadata": {},
   "outputs": [],
   "source": []
  },
  {
   "cell_type": "code",
   "execution_count": null,
   "id": "1f5463d5-1808-4320-9bcf-b05a7fce3c35",
   "metadata": {},
   "outputs": [],
   "source": []
  },
  {
   "cell_type": "code",
   "execution_count": null,
   "id": "ecfd52ff-a421-4a4d-960f-3af3e7564051",
   "metadata": {},
   "outputs": [],
   "source": []
  },
  {
   "cell_type": "code",
   "execution_count": null,
   "id": "eabe598e-cdbb-4761-a196-425316ac0b62",
   "metadata": {},
   "outputs": [],
   "source": []
  },
  {
   "cell_type": "code",
   "execution_count": null,
   "id": "68d2904e-ee77-40bf-9c7b-9d9eb7561b6b",
   "metadata": {},
   "outputs": [],
   "source": []
  },
  {
   "cell_type": "code",
   "execution_count": null,
   "id": "7de96599-ccfc-4936-82de-ffb15ef2fb18",
   "metadata": {},
   "outputs": [],
   "source": []
  },
  {
   "cell_type": "code",
   "execution_count": null,
   "id": "0fce05d6-bbc7-4e80-8976-6432e65a428a",
   "metadata": {},
   "outputs": [],
   "source": []
  },
  {
   "cell_type": "code",
   "execution_count": null,
   "id": "e0a3ac9c-e550-4986-9326-0a31ec199468",
   "metadata": {},
   "outputs": [],
   "source": []
  },
  {
   "cell_type": "code",
   "execution_count": null,
   "id": "7dd184dd-420e-464d-9423-956c7c05dbbc",
   "metadata": {},
   "outputs": [],
   "source": []
  },
  {
   "cell_type": "code",
   "execution_count": null,
   "id": "3230522e-5612-44c1-b9a7-44d67481fd9b",
   "metadata": {},
   "outputs": [],
   "source": []
  },
  {
   "cell_type": "code",
   "execution_count": null,
   "id": "df3ced72-c777-43fe-b319-1799de39e13e",
   "metadata": {},
   "outputs": [],
   "source": []
  },
  {
   "cell_type": "code",
   "execution_count": null,
   "id": "246ffa3c-7172-480f-95b5-8853dca02047",
   "metadata": {},
   "outputs": [],
   "source": []
  },
  {
   "cell_type": "code",
   "execution_count": null,
   "id": "e12d70b8-663c-4ff4-b150-e35301329eda",
   "metadata": {},
   "outputs": [],
   "source": []
  },
  {
   "cell_type": "code",
   "execution_count": null,
   "id": "ba0caf46-0f10-4a7b-8698-7fae042abbaa",
   "metadata": {},
   "outputs": [],
   "source": []
  },
  {
   "cell_type": "code",
   "execution_count": null,
   "id": "1797b40b-cd7c-4632-ae7b-33af4e821f19",
   "metadata": {},
   "outputs": [],
   "source": []
  },
  {
   "cell_type": "code",
   "execution_count": null,
   "id": "34391fc3-db80-40fc-ba28-2bc682495cf4",
   "metadata": {},
   "outputs": [],
   "source": []
  },
  {
   "cell_type": "code",
   "execution_count": null,
   "id": "b2cee61d-9b29-44f9-96dd-0c60954e53e2",
   "metadata": {},
   "outputs": [],
   "source": []
  },
  {
   "cell_type": "code",
   "execution_count": null,
   "id": "7b1471f8-1d46-4a71-ac06-c75b6856bb1c",
   "metadata": {},
   "outputs": [],
   "source": []
  },
  {
   "cell_type": "code",
   "execution_count": null,
   "id": "5e5db937-4734-4aaf-b8f7-087145f6edd8",
   "metadata": {},
   "outputs": [],
   "source": []
  },
  {
   "cell_type": "code",
   "execution_count": null,
   "id": "2d6c4d57-89c2-472e-bf69-29ad589eab2c",
   "metadata": {},
   "outputs": [],
   "source": []
  },
  {
   "cell_type": "code",
   "execution_count": null,
   "id": "05faaa15-4ceb-4f6b-bdd9-f7c4883442e2",
   "metadata": {},
   "outputs": [],
   "source": []
  },
  {
   "cell_type": "code",
   "execution_count": null,
   "id": "0fa84dc1-f855-4b35-a995-fc8387f3a7b7",
   "metadata": {},
   "outputs": [],
   "source": []
  },
  {
   "cell_type": "code",
   "execution_count": null,
   "id": "193db09d-9af7-48e9-8d41-d8cd6904e58d",
   "metadata": {},
   "outputs": [],
   "source": []
  },
  {
   "cell_type": "code",
   "execution_count": null,
   "id": "d483fe33-0f5c-4807-b1e6-adc692c7022c",
   "metadata": {},
   "outputs": [],
   "source": []
  },
  {
   "cell_type": "code",
   "execution_count": null,
   "id": "71e88776-afd6-43fc-811f-fcf475eaec69",
   "metadata": {},
   "outputs": [],
   "source": []
  },
  {
   "cell_type": "code",
   "execution_count": null,
   "id": "a89b6e04-1bad-443c-b4ce-b92e3ea2e46f",
   "metadata": {},
   "outputs": [],
   "source": []
  },
  {
   "cell_type": "code",
   "execution_count": null,
   "id": "c00d4df4-9317-4037-85d7-740ac639c458",
   "metadata": {},
   "outputs": [],
   "source": []
  },
  {
   "cell_type": "code",
   "execution_count": null,
   "id": "39039b72-2b5b-4796-a9b2-adf2f6204c54",
   "metadata": {},
   "outputs": [],
   "source": []
  },
  {
   "cell_type": "code",
   "execution_count": null,
   "id": "17b2a8ea-ea09-4e61-b3b6-0df8fa403012",
   "metadata": {},
   "outputs": [],
   "source": []
  },
  {
   "cell_type": "code",
   "execution_count": null,
   "id": "fba27133-042f-4628-a50c-a042202a9536",
   "metadata": {},
   "outputs": [],
   "source": []
  },
  {
   "cell_type": "code",
   "execution_count": null,
   "id": "32b27a7d-268a-47f3-9a5c-b20d7d0fac29",
   "metadata": {},
   "outputs": [],
   "source": []
  },
  {
   "cell_type": "code",
   "execution_count": null,
   "id": "238ef9fa-c35f-431b-a279-1730f8144243",
   "metadata": {},
   "outputs": [],
   "source": []
  },
  {
   "cell_type": "code",
   "execution_count": null,
   "id": "e583154b-5ba8-4231-9e42-81d320780f41",
   "metadata": {},
   "outputs": [],
   "source": [
    "fpath_gridsearch = FPATHS['Models']['ml']\n",
    "joblib.dump(Gridsearch_full, fpath_Gridsearch_full)"
   ]
  },
  {
   "cell_type": "code",
   "execution_count": null,
   "id": "6ccab95e-b6c8-40ca-8377-cdb8a2fef746",
   "metadata": {},
   "outputs": [],
   "source": []
  },
  {
   "cell_type": "code",
   "execution_count": null,
   "id": "08dcaf53-956b-4c8e-bf99-356853ed44e8",
   "metadata": {},
   "outputs": [],
   "source": []
  },
  {
   "cell_type": "code",
   "execution_count": null,
   "id": "f328a0a7-1ffa-4a15-92ef-9516fd2da281",
   "metadata": {},
   "outputs": [],
   "source": []
  }
 ],
 "metadata": {
  "kernelspec": {
   "display_name": "Python (dojo-env)",
   "language": "python",
   "name": "dojo-env"
  },
  "language_info": {
   "codemirror_mode": {
    "name": "ipython",
    "version": 3
   },
   "file_extension": ".py",
   "mimetype": "text/x-python",
   "name": "python",
   "nbconvert_exporter": "python",
   "pygments_lexer": "ipython3",
   "version": "3.10.10"
  }
 },
 "nbformat": 4,
 "nbformat_minor": 5
}
